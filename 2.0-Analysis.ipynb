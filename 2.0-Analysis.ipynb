{
 "cells": [
  {
   "cell_type": "markdown",
   "metadata": {},
   "source": [
    "# Problem Statement\n",
    "---\n",
    "Reddit is a collection of online discussion boards known as \"subreddits\", which cover a variety of topics. In this project we will be looking into the subreddits, dating_advice and relationship_advice. The choice of these two subreddits is motivated by their text-heavy posts. We will be creating and comparing two models: a logistic regression and a multinomial naive Bayes classifier. Our results may be useful for any reddit user who is unsure which subreddit is the most appropriate to submit his new post, so that he can attract the most comments."
   ]
  },
  {
   "cell_type": "markdown",
   "metadata": {},
   "source": [
    "# Data Cleaning and EDA"
   ]
  },
  {
   "cell_type": "code",
   "execution_count": 41,
   "metadata": {
    "ExecuteTime": {
     "end_time": "2019-10-24T15:36:04.482585Z",
     "start_time": "2019-10-24T15:36:03.707900Z"
    }
   },
   "outputs": [],
   "source": [
    "# import libraries\n",
    "import pandas as pd, numpy as np\n",
    "import re\n",
    "from xml.sax.saxutils import unescape\n",
    "import nltk\n",
    "import matplotlib.pyplot as plt\n",
    "import seaborn as sns\n",
    "\n",
    "%matplotlib inline"
   ]
  },
  {
   "cell_type": "code",
   "execution_count": 42,
   "metadata": {
    "ExecuteTime": {
     "end_time": "2019-10-24T15:36:04.499079Z",
     "start_time": "2019-10-24T15:36:04.486794Z"
    }
   },
   "outputs": [],
   "source": [
    "# import warnings filter\n",
    "from warnings import simplefilter\n",
    "# ignore all future warnings\n",
    "simplefilter(action='ignore',category=FutureWarning)"
   ]
  },
  {
   "cell_type": "markdown",
   "metadata": {},
   "source": [
    "Import the data that was previously collected from our 2 subreddits."
   ]
  },
  {
   "cell_type": "code",
   "execution_count": 43,
   "metadata": {
    "ExecuteTime": {
     "end_time": "2019-10-24T15:36:05.212791Z",
     "start_time": "2019-10-24T15:36:04.511604Z"
    }
   },
   "outputs": [],
   "source": [
    "df = pd.read_csv('data/reddit-posts.csv')"
   ]
  },
  {
   "cell_type": "markdown",
   "metadata": {},
   "source": [
    "Recall that the \"scraping\" function returned each posts into a dataframe, let us take a look at the size of the data as well as the first 5 observations in the dataframe to get a flavor of the content of the raw data collected."
   ]
  },
  {
   "cell_type": "code",
   "execution_count": 44,
   "metadata": {
    "ExecuteTime": {
     "end_time": "2019-10-24T15:36:05.317370Z",
     "start_time": "2019-10-24T15:36:05.223563Z"
    }
   },
   "outputs": [
    {
     "name": "stdout",
     "output_type": "stream",
     "text": [
      "(2502, 4)\n",
      "dating_advice          1252\n",
      "relationship_advice    1250\n",
      "Name: subreddit, dtype: int64\n"
     ]
    },
    {
     "data": {
      "text/html": [
       "<div>\n",
       "<style scoped>\n",
       "    .dataframe tbody tr th:only-of-type {\n",
       "        vertical-align: middle;\n",
       "    }\n",
       "\n",
       "    .dataframe tbody tr th {\n",
       "        vertical-align: top;\n",
       "    }\n",
       "\n",
       "    .dataframe thead th {\n",
       "        text-align: right;\n",
       "    }\n",
       "</style>\n",
       "<table border=\"1\" class=\"dataframe\">\n",
       "  <thead>\n",
       "    <tr style=\"text-align: right;\">\n",
       "      <th></th>\n",
       "      <th>name</th>\n",
       "      <th>title</th>\n",
       "      <th>text</th>\n",
       "      <th>subreddit</th>\n",
       "    </tr>\n",
       "  </thead>\n",
       "  <tbody>\n",
       "    <tr>\n",
       "      <td>0</td>\n",
       "      <td>t3_co1xjb</td>\n",
       "      <td>FAQ: Where do you meet people?</td>\n",
       "      <td>Hi everyone. In an effort to put together a FA...</td>\n",
       "      <td>dating_advice</td>\n",
       "    </tr>\n",
       "    <tr>\n",
       "      <td>1</td>\n",
       "      <td>t3_dkzok7</td>\n",
       "      <td>Daily Free-for-all Discussion- October 21, 2019</td>\n",
       "      <td>Welcome to /r/dating_advice. Please use this d...</td>\n",
       "      <td>dating_advice</td>\n",
       "    </tr>\n",
       "    <tr>\n",
       "      <td>2</td>\n",
       "      <td>t3_dlf3t6</td>\n",
       "      <td>No girl ever seemed interested in me [19M]</td>\n",
       "      <td>Almost all my friends have/have had girlfriend...</td>\n",
       "      <td>dating_advice</td>\n",
       "    </tr>\n",
       "    <tr>\n",
       "      <td>3</td>\n",
       "      <td>t3_dlon52</td>\n",
       "      <td>It sucks being an introvert in an extrovert’s ...</td>\n",
       "      <td>I’ve had a lot of dates describe me as timid o...</td>\n",
       "      <td>dating_advice</td>\n",
       "    </tr>\n",
       "    <tr>\n",
       "      <td>4</td>\n",
       "      <td>t3_dlq2hv</td>\n",
       "      <td>Guys do you like it when a girl asks you out?</td>\n",
       "      <td>Im (f24) I’m thinking of asking out this boy(m...</td>\n",
       "      <td>dating_advice</td>\n",
       "    </tr>\n",
       "  </tbody>\n",
       "</table>\n",
       "</div>"
      ],
      "text/plain": [
       "        name                                              title  \\\n",
       "0  t3_co1xjb                     FAQ: Where do you meet people?   \n",
       "1  t3_dkzok7    Daily Free-for-all Discussion- October 21, 2019   \n",
       "2  t3_dlf3t6         No girl ever seemed interested in me [19M]   \n",
       "3  t3_dlon52  It sucks being an introvert in an extrovert’s ...   \n",
       "4  t3_dlq2hv      Guys do you like it when a girl asks you out?   \n",
       "\n",
       "                                                text      subreddit  \n",
       "0  Hi everyone. In an effort to put together a FA...  dating_advice  \n",
       "1  Welcome to /r/dating_advice. Please use this d...  dating_advice  \n",
       "2  Almost all my friends have/have had girlfriend...  dating_advice  \n",
       "3  I’ve had a lot of dates describe me as timid o...  dating_advice  \n",
       "4  Im (f24) I’m thinking of asking out this boy(m...  dating_advice  "
      ]
     },
     "execution_count": 44,
     "metadata": {},
     "output_type": "execute_result"
    }
   ],
   "source": [
    "# look at the shape and the first five rows of the dataset\n",
    "print(df.shape)\n",
    "print(df['subreddit'].value_counts())\n",
    "df.head()"
   ]
  },
  {
   "cell_type": "markdown",
   "metadata": {},
   "source": [
    "The dataframe has been split into 4 columns with 2502 posts/observations collected from the selected subreddits, dating_advice and relationship_advice. At first glance, there seems to be a sizable amount of observations collected. However, as this is the raw data we are looking at, let us look at the final dataframe again after data cleaning.\n",
    "\n",
    "|Column|Data|\n",
    "|---|---|\n",
    "|name|ID of the post|\n",
    "|title|Title of the post|\n",
    "|text|Content of the post|\n",
    "|subreddit|Type of subreddits|"
   ]
  },
  {
   "cell_type": "markdown",
   "metadata": {},
   "source": [
    "Now, let us drop all duplicates that may be collected during the data collection process. Although duplicates often indicate frequency which might affect the score during modeling, this is not the case in this instance as the \"name\" column contains the unique ID of each post."
   ]
  },
  {
   "cell_type": "code",
   "execution_count": 45,
   "metadata": {
    "ExecuteTime": {
     "end_time": "2019-10-24T15:36:05.345427Z",
     "start_time": "2019-10-24T15:36:05.327195Z"
    }
   },
   "outputs": [],
   "source": [
    "# Drop duplicate rows by comparing name ids\n",
    "df.drop_duplicates(subset='name', inplace=True)"
   ]
  },
  {
   "cell_type": "code",
   "execution_count": 46,
   "metadata": {
    "ExecuteTime": {
     "end_time": "2019-10-24T15:36:05.408062Z",
     "start_time": "2019-10-24T15:36:05.350164Z"
    }
   },
   "outputs": [
    {
     "name": "stdout",
     "output_type": "stream",
     "text": [
      "(1925, 4)\n"
     ]
    },
    {
     "data": {
      "text/plain": [
       "relationship_advice    975\n",
       "dating_advice          950\n",
       "Name: subreddit, dtype: int64"
      ]
     },
     "execution_count": 46,
     "metadata": {},
     "output_type": "execute_result"
    }
   ],
   "source": [
    "# look at the shape of the data set after dropping duplicates\n",
    "print(df.shape)\n",
    "df['subreddit'].value_counts()"
   ]
  },
  {
   "cell_type": "code",
   "execution_count": 47,
   "metadata": {
    "ExecuteTime": {
     "end_time": "2019-10-24T15:36:05.428684Z",
     "start_time": "2019-10-24T15:36:05.411802Z"
    }
   },
   "outputs": [
    {
     "name": "stdout",
     "output_type": "stream",
     "text": [
      "0.4935064935064935\n",
      "0.5064935064935064\n"
     ]
    }
   ],
   "source": [
    "print(950/1925)\n",
    "print(975/1925)"
   ]
  },
  {
   "cell_type": "markdown",
   "metadata": {},
   "source": [
    "There are 577 duplicate posts that were dropped. It also shows that there are more posts in the subreddit relationship_advice as compared to dating_advice. With that, we will now explore if there are any null values in the dataset."
   ]
  },
  {
   "cell_type": "code",
   "execution_count": 48,
   "metadata": {
    "ExecuteTime": {
     "end_time": "2019-10-24T15:36:05.449594Z",
     "start_time": "2019-10-24T15:36:05.433431Z"
    }
   },
   "outputs": [
    {
     "data": {
      "text/plain": [
       "name          0\n",
       "title         0\n",
       "text         21\n",
       "subreddit     0\n",
       "dtype: int64"
      ]
     },
     "execution_count": 48,
     "metadata": {},
     "output_type": "execute_result"
    }
   ],
   "source": [
    "# check for null values\n",
    "df.isnull().sum()"
   ]
  },
  {
   "cell_type": "code",
   "execution_count": 49,
   "metadata": {
    "ExecuteTime": {
     "end_time": "2019-10-24T15:36:05.499184Z",
     "start_time": "2019-10-24T15:36:05.456688Z"
    },
    "scrolled": true
   },
   "outputs": [
    {
     "name": "stdout",
     "output_type": "stream",
     "text": [
      "dating_advice          12\n",
      "relationship_advice     9\n",
      "Name: subreddit, dtype: int64\n"
     ]
    },
    {
     "data": {
      "text/html": [
       "<div>\n",
       "<style scoped>\n",
       "    .dataframe tbody tr th:only-of-type {\n",
       "        vertical-align: middle;\n",
       "    }\n",
       "\n",
       "    .dataframe tbody tr th {\n",
       "        vertical-align: top;\n",
       "    }\n",
       "\n",
       "    .dataframe thead th {\n",
       "        text-align: right;\n",
       "    }\n",
       "</style>\n",
       "<table border=\"1\" class=\"dataframe\">\n",
       "  <thead>\n",
       "    <tr style=\"text-align: right;\">\n",
       "      <th></th>\n",
       "      <th>name</th>\n",
       "      <th>title</th>\n",
       "      <th>text</th>\n",
       "      <th>subreddit</th>\n",
       "    </tr>\n",
       "  </thead>\n",
       "  <tbody>\n",
       "    <tr>\n",
       "      <td>46</td>\n",
       "      <td>t3_dlsgkd</td>\n",
       "      <td>Dealing with my Jealousy</td>\n",
       "      <td>NaN</td>\n",
       "      <td>dating_advice</td>\n",
       "    </tr>\n",
       "    <tr>\n",
       "      <td>123</td>\n",
       "      <td>t3_dlo5p7</td>\n",
       "      <td>UPDATE ON I SAW A TEXT EXCHANGE BETWEEN BF AND...</td>\n",
       "      <td>NaN</td>\n",
       "      <td>dating_advice</td>\n",
       "    </tr>\n",
       "    <tr>\n",
       "      <td>188</td>\n",
       "      <td>t3_dliogq</td>\n",
       "      <td>It has been 4 days since college started and I...</td>\n",
       "      <td>NaN</td>\n",
       "      <td>dating_advice</td>\n",
       "    </tr>\n",
       "    <tr>\n",
       "      <td>244</td>\n",
       "      <td>t3_dlewf7</td>\n",
       "      <td>How do I (M20) give this girl (F20) subtle hin...</td>\n",
       "      <td>NaN</td>\n",
       "      <td>dating_advice</td>\n",
       "    </tr>\n",
       "    <tr>\n",
       "      <td>352</td>\n",
       "      <td>t3_dl7gzn</td>\n",
       "      <td>Friendship</td>\n",
       "      <td>NaN</td>\n",
       "      <td>dating_advice</td>\n",
       "    </tr>\n",
       "    <tr>\n",
       "      <td>353</td>\n",
       "      <td>t3_dl7gq9</td>\n",
       "      <td>I recently read a research article which state...</td>\n",
       "      <td>NaN</td>\n",
       "      <td>dating_advice</td>\n",
       "    </tr>\n",
       "    <tr>\n",
       "      <td>410</td>\n",
       "      <td>t3_dl7ppn</td>\n",
       "      <td>I lie</td>\n",
       "      <td>NaN</td>\n",
       "      <td>dating_advice</td>\n",
       "    </tr>\n",
       "    <tr>\n",
       "      <td>446</td>\n",
       "      <td>t3_dl1fkz</td>\n",
       "      <td>Kevin McCoy</td>\n",
       "      <td>NaN</td>\n",
       "      <td>dating_advice</td>\n",
       "    </tr>\n",
       "    <tr>\n",
       "      <td>751</td>\n",
       "      <td>t3_dkheda</td>\n",
       "      <td>Waiting for a text</td>\n",
       "      <td>NaN</td>\n",
       "      <td>dating_advice</td>\n",
       "    </tr>\n",
       "    <tr>\n",
       "      <td>857</td>\n",
       "      <td>t3_dkcdem</td>\n",
       "      <td>Please help</td>\n",
       "      <td>NaN</td>\n",
       "      <td>dating_advice</td>\n",
       "    </tr>\n",
       "    <tr>\n",
       "      <td>913</td>\n",
       "      <td>t3_dk8cpb</td>\n",
       "      <td>Any advice is help full 😁</td>\n",
       "      <td>NaN</td>\n",
       "      <td>dating_advice</td>\n",
       "    </tr>\n",
       "    <tr>\n",
       "      <td>940</td>\n",
       "      <td>t3_dk61lz</td>\n",
       "      <td>I would be really thankful...</td>\n",
       "      <td>NaN</td>\n",
       "      <td>dating_advice</td>\n",
       "    </tr>\n",
       "    <tr>\n",
       "      <td>1453</td>\n",
       "      <td>t3_dlsuu9</td>\n",
       "      <td>Is my [21F] boyfriend [23M] being verbally abu...</td>\n",
       "      <td>NaN</td>\n",
       "      <td>relationship_advice</td>\n",
       "    </tr>\n",
       "    <tr>\n",
       "      <td>1471</td>\n",
       "      <td>t3_dlsp9z</td>\n",
       "      <td>A girl who I really like hasn’t responded and ...</td>\n",
       "      <td>NaN</td>\n",
       "      <td>relationship_advice</td>\n",
       "    </tr>\n",
       "    <tr>\n",
       "      <td>1585</td>\n",
       "      <td>t3_dlr5om</td>\n",
       "      <td>Feel trapped in this codependent marriage</td>\n",
       "      <td>NaN</td>\n",
       "      <td>relationship_advice</td>\n",
       "    </tr>\n",
       "    <tr>\n",
       "      <td>1633</td>\n",
       "      <td>t3_dlqjco</td>\n",
       "      <td>Broke up with gf of 6 weeks, but it was so sud...</td>\n",
       "      <td>NaN</td>\n",
       "      <td>relationship_advice</td>\n",
       "    </tr>\n",
       "    <tr>\n",
       "      <td>1673</td>\n",
       "      <td>t3_dlppj6</td>\n",
       "      <td>I (21F) need advice on how to keep the relatio...</td>\n",
       "      <td>NaN</td>\n",
       "      <td>relationship_advice</td>\n",
       "    </tr>\n",
       "    <tr>\n",
       "      <td>1689</td>\n",
       "      <td>t3_dlpf6o</td>\n",
       "      <td>Title below</td>\n",
       "      <td>NaN</td>\n",
       "      <td>relationship_advice</td>\n",
       "    </tr>\n",
       "    <tr>\n",
       "      <td>1909</td>\n",
       "      <td>t3_dll2fh</td>\n",
       "      <td>Gift for my (35/F) stepmother (70/F) with rock...</td>\n",
       "      <td>NaN</td>\n",
       "      <td>relationship_advice</td>\n",
       "    </tr>\n",
       "    <tr>\n",
       "      <td>2163</td>\n",
       "      <td>t3_dldu2a</td>\n",
       "      <td>Crossposted</td>\n",
       "      <td>NaN</td>\n",
       "      <td>relationship_advice</td>\n",
       "    </tr>\n",
       "    <tr>\n",
       "      <td>2217</td>\n",
       "      <td>t3_dletnm</td>\n",
       "      <td>I’m worried my (M24) growing insecurities are ...</td>\n",
       "      <td>NaN</td>\n",
       "      <td>relationship_advice</td>\n",
       "    </tr>\n",
       "  </tbody>\n",
       "</table>\n",
       "</div>"
      ],
      "text/plain": [
       "           name                                              title text  \\\n",
       "46    t3_dlsgkd                           Dealing with my Jealousy  NaN   \n",
       "123   t3_dlo5p7  UPDATE ON I SAW A TEXT EXCHANGE BETWEEN BF AND...  NaN   \n",
       "188   t3_dliogq  It has been 4 days since college started and I...  NaN   \n",
       "244   t3_dlewf7  How do I (M20) give this girl (F20) subtle hin...  NaN   \n",
       "352   t3_dl7gzn                                         Friendship  NaN   \n",
       "353   t3_dl7gq9  I recently read a research article which state...  NaN   \n",
       "410   t3_dl7ppn                                              I lie  NaN   \n",
       "446   t3_dl1fkz                                        Kevin McCoy  NaN   \n",
       "751   t3_dkheda                                 Waiting for a text  NaN   \n",
       "857   t3_dkcdem                                        Please help  NaN   \n",
       "913   t3_dk8cpb                          Any advice is help full 😁  NaN   \n",
       "940   t3_dk61lz                      I would be really thankful...  NaN   \n",
       "1453  t3_dlsuu9  Is my [21F] boyfriend [23M] being verbally abu...  NaN   \n",
       "1471  t3_dlsp9z  A girl who I really like hasn’t responded and ...  NaN   \n",
       "1585  t3_dlr5om          Feel trapped in this codependent marriage  NaN   \n",
       "1633  t3_dlqjco  Broke up with gf of 6 weeks, but it was so sud...  NaN   \n",
       "1673  t3_dlppj6  I (21F) need advice on how to keep the relatio...  NaN   \n",
       "1689  t3_dlpf6o                                        Title below  NaN   \n",
       "1909  t3_dll2fh  Gift for my (35/F) stepmother (70/F) with rock...  NaN   \n",
       "2163  t3_dldu2a                                        Crossposted  NaN   \n",
       "2217  t3_dletnm  I’m worried my (M24) growing insecurities are ...  NaN   \n",
       "\n",
       "                subreddit  \n",
       "46          dating_advice  \n",
       "123         dating_advice  \n",
       "188         dating_advice  \n",
       "244         dating_advice  \n",
       "352         dating_advice  \n",
       "353         dating_advice  \n",
       "410         dating_advice  \n",
       "446         dating_advice  \n",
       "751         dating_advice  \n",
       "857         dating_advice  \n",
       "913         dating_advice  \n",
       "940         dating_advice  \n",
       "1453  relationship_advice  \n",
       "1471  relationship_advice  \n",
       "1585  relationship_advice  \n",
       "1633  relationship_advice  \n",
       "1673  relationship_advice  \n",
       "1689  relationship_advice  \n",
       "1909  relationship_advice  \n",
       "2163  relationship_advice  \n",
       "2217  relationship_advice  "
      ]
     },
     "execution_count": 49,
     "metadata": {},
     "output_type": "execute_result"
    }
   ],
   "source": [
    "# look at the rows with null texts\n",
    "print(df[df.text.isnull()]['subreddit'].value_counts())\n",
    "df[df.text.isnull()]"
   ]
  },
  {
   "cell_type": "markdown",
   "metadata": {},
   "source": [
    "There are 21 posts with no text. Of these 21 posts, there are 12 and 9 posts from subreddit category, dating_advice and relationship_advice respectively. Due to limited context from just the title alone, i will choose to drop these columns to avoid training the model which might not be beneficial in predicting the subreddit of a new post. "
   ]
  },
  {
   "cell_type": "code",
   "execution_count": 50,
   "metadata": {
    "ExecuteTime": {
     "end_time": "2019-10-24T15:36:05.520604Z",
     "start_time": "2019-10-24T15:36:05.504270Z"
    }
   },
   "outputs": [],
   "source": [
    "df.dropna(axis=0,inplace=True)"
   ]
  },
  {
   "cell_type": "code",
   "execution_count": 51,
   "metadata": {
    "ExecuteTime": {
     "end_time": "2019-10-24T15:36:06.015481Z",
     "start_time": "2019-10-24T15:36:05.525152Z"
    }
   },
   "outputs": [
    {
     "name": "stdout",
     "output_type": "stream",
     "text": [
      "relationship_advice    966\n",
      "dating_advice          938\n",
      "Name: subreddit, dtype: int64\n"
     ]
    },
    {
     "data": {
      "image/png": "[encoded data removed]",
      "text/plain": [
       "<Figure size 432x288 with 1 Axes>"
      ]
     },
     "metadata": {
      "needs_background": "light"
     },
     "output_type": "display_data"
    }
   ],
   "source": [
    "# find number of posts from each subreddit\n",
    "print(df['subreddit'].value_counts())\n",
    "df['subreddit'].value_counts().plot(kind='bar');\n",
    "# plot the graph to show the number of posts from each subreddit\n",
    "plt.xticks(fontsize=12,rotation=0);\n",
    "plt.title('Distribution between subreddits',fontsize=15,pad=15,fontweight='bold');\n",
    "plt.figtext(0.27,0.48,round((966/1925*100),2),fontsize=15);\n",
    "plt.figtext(0.65,0.48,round((938/1925*100),2),fontsize=15);"
   ]
  },
  {
   "cell_type": "markdown",
   "metadata": {},
   "source": [
    "There is an uneven distribution number of posts between the relationship_advice and dating_advice. However, since the difference is minor, it should not have a significant impact in the model that we will be training. Next, we will be combining the title and text together and apply a series of data cleaning techniques on this newly combined column."
   ]
  },
  {
   "cell_type": "code",
   "execution_count": 52,
   "metadata": {
    "ExecuteTime": {
     "end_time": "2019-10-24T15:36:06.054895Z",
     "start_time": "2019-10-24T15:36:06.023690Z"
    }
   },
   "outputs": [],
   "source": [
    "# Put titles and texts into a single column.\n",
    "df['full_text'] = df['title'] + ' ' + df['text']"
   ]
  },
  {
   "cell_type": "code",
   "execution_count": 53,
   "metadata": {
    "ExecuteTime": {
     "end_time": "2019-10-24T15:36:06.082267Z",
     "start_time": "2019-10-24T15:36:06.060609Z"
    }
   },
   "outputs": [],
   "source": [
    "# Convert &amp;, &gt; and &lt; XML character entity references back to &, > and <\n",
    "df['full_text'] = df['full_text'].apply(unescape)"
   ]
  },
  {
   "cell_type": "code",
   "execution_count": 54,
   "metadata": {
    "ExecuteTime": {
     "end_time": "2019-10-24T15:36:06.131241Z",
     "start_time": "2019-10-24T15:36:06.089264Z"
    }
   },
   "outputs": [],
   "source": [
    "# remove all newline (\"\\n\") from text\n",
    "df['full_text'] = [re.sub(\"\\n\",\" \",i) for i in df['full_text']]"
   ]
  },
  {
   "cell_type": "code",
   "execution_count": 55,
   "metadata": {
    "ExecuteTime": {
     "end_time": "2019-10-24T15:36:06.403782Z",
     "start_time": "2019-10-24T15:36:06.134803Z"
    }
   },
   "outputs": [],
   "source": [
    "# remove punctuation\n",
    "df['full_text'] = [re.sub(\"[^A-z]\",\" \",i) for i in df['full_text']]"
   ]
  },
  {
   "cell_type": "code",
   "execution_count": 56,
   "metadata": {
    "ExecuteTime": {
     "end_time": "2019-10-24T15:36:06.432417Z",
     "start_time": "2019-10-24T15:36:06.411067Z"
    }
   },
   "outputs": [],
   "source": [
    "# remove words with 2 or fewer letters\n",
    "df['full_text'] = [re.sub(\"\\b\\w{1,2}\\b\",\" \",i) for i in df['full_text']]"
   ]
  },
  {
   "cell_type": "markdown",
   "metadata": {},
   "source": [
    "Notice that we did not remove stop words while cleaning the data as it can be applied as a parameter when applying vectorizer on the data."
   ]
  },
  {
   "cell_type": "code",
   "execution_count": 57,
   "metadata": {
    "ExecuteTime": {
     "end_time": "2019-10-24T15:36:06.451707Z",
     "start_time": "2019-10-24T15:36:06.437763Z"
    }
   },
   "outputs": [],
   "source": [
    "# import CountVectorizer and TfidfVectorizer form sklearn library\n",
    "from sklearn.feature_extraction.text import CountVectorizer, TfidfVectorizer\n",
    "\n",
    "# instantiate CountVectorizer and TfidfVectorizer with stopwords\n",
    "cvec = CountVectorizer(stop_words='english')\n",
    "tfidf = TfidfVectorizer(stop_words='english')"
   ]
  },
  {
   "cell_type": "code",
   "execution_count": 58,
   "metadata": {
    "ExecuteTime": {
     "end_time": "2019-10-24T15:36:08.763541Z",
     "start_time": "2019-10-24T15:36:06.457139Z"
    }
   },
   "outputs": [
    {
     "data": {
      "image/png": "[encoded data removed]",
      "text/plain": [
       "<Figure size 1584x1152 with 2 Axes>"
      ]
     },
     "metadata": {},
     "output_type": "display_data"
    }
   ],
   "source": [
    "# explore CountVectorizer token counts in dating_advice\n",
    "cvec_da = pd.DataFrame(cvec.fit_transform(df[df['subreddit']=='dating_advice']['full_text']).todense(),\n",
    "                       columns=cvec.get_feature_names())\n",
    "cvec_count_da = cvec_da.sum(axis=0)\n",
    "\n",
    "# explore TfidfVectorizer token counts in dating_advice\n",
    "tfidf_da = pd.DataFrame(tfidf.fit_transform(df[df['subreddit']=='dating_advice']['full_text']).todense(),\n",
    "                       columns=tfidf.get_feature_names())\n",
    "tfidf_count_da = tfidf_da.sum(axis=0)\n",
    "\n",
    "# plot top 20 words\n",
    "plt.figure(figsize=(22,16), facecolor='white')\n",
    "\n",
    "plt.subplot(2,2,1)\n",
    "cvec_count_da.sort_values().tail(20).plot(kind='barh')\n",
    "plt.title('Top 20 Words in dating_advice (Cvec)',fontsize=20,pad=15,fontweight='bold')\n",
    "plt.xlabel('Cvec Value',fontsize=15,labelpad =15,fontweight='bold')\n",
    "plt.ylabel('Word',fontsize=15,rotation=0,labelpad=30,fontweight='bold')\n",
    "plt.rc('xtick',labelsize=15)\n",
    "plt.rc('ytick',labelsize=15)\n",
    "\n",
    "plt.subplot(2,2,2)\n",
    "tfidf_count_da.sort_values().tail(20).plot(kind='barh')\n",
    "plt.title('Top 20 TFIDF Words in dating_advice (Tf-idf)',fontsize=20,pad=15,fontweight='bold')\n",
    "plt.xlabel('TFIDF Value',fontsize=15,labelpad =15,fontweight='bold')\n",
    "plt.ylabel('Word',fontsize=15,rotation=0,labelpad=30,fontweight='bold')\n",
    "plt.rc('xtick',labelsize=15)\n",
    "plt.rc('ytick',labelsize=15)\n",
    "\n",
    "plt.tight_layout()"
   ]
  },
  {
   "cell_type": "markdown",
   "metadata": {},
   "source": [
    "The most common words in dating_advice after vectorizing with stop words are \"like\", \"just\" and \"really\". "
   ]
  },
  {
   "cell_type": "code",
   "execution_count": 59,
   "metadata": {
    "ExecuteTime": {
     "end_time": "2019-10-24T15:36:12.295162Z",
     "start_time": "2019-10-24T15:36:08.767443Z"
    },
    "scrolled": false
   },
   "outputs": [
    {
     "data": {
      "image/png": "[encoded data removed]",
      "text/plain": [
       "<Figure size 1584x1152 with 2 Axes>"
      ]
     },
     "metadata": {},
     "output_type": "display_data"
    }
   ],
   "source": [
    "# explore CountVectorizer token counts in relationship_advice\n",
    "cvec_ra = pd.DataFrame(cvec.fit_transform(df[df.subreddit=='relationship_advice']['full_text']).todense(),\n",
    "                       columns=cvec.get_feature_names())\n",
    "cvec_counts_ra = cvec_ra.sum(axis=0)\n",
    "\n",
    "# explore TfidfVectorizer token counts in relationship_advice\n",
    "tfidf_ra = pd.DataFrame(tfidf.fit_transform(df[df.subreddit=='relationship_advice']['full_text']).todense(),\n",
    "                       columns=tfidf.get_feature_names())\n",
    "tfidf_counts_ra = tfidf_ra.sum(axis=0)\n",
    "\n",
    "# Plot top 20 words\n",
    "plt.figure(figsize=(22,16), facecolor='white')\n",
    "\n",
    "plt.subplot(2,2,1)\n",
    "cvec_counts_ra.sort_values().tail(20).plot(kind='barh')\n",
    "plt.title('Top 20 Words in relationship_advice (Cvec)',fontsize=20,pad=15,fontweight='bold')\n",
    "plt.xlabel('Cvec Value',fontsize=15,labelpad =15,fontweight='bold')\n",
    "plt.ylabel('Word',fontsize=15,rotation=0,labelpad=30,fontweight='bold')\n",
    "plt.rc('xtick',labelsize=15)\n",
    "plt.rc('ytick',labelsize=15)\n",
    "\n",
    "plt.subplot(2,2,2)\n",
    "tfidf_counts_ra.sort_values().tail(20).plot(kind='barh')\n",
    "plt.title('Top 20 Words in relationship_advice (Tf-idf)',fontsize=20,pad=15,fontweight='bold')\n",
    "plt.xlabel('TFIDF Value',fontsize=15,labelpad =15,fontweight='bold')\n",
    "plt.ylabel('Word',fontsize=15,rotation=0,labelpad=30,fontweight='bold')\n",
    "plt.rc('xtick',labelsize=15)\n",
    "plt.rc('ytick',labelsize=15)\n",
    "\n",
    "plt.tight_layout()"
   ]
  },
  {
   "cell_type": "markdown",
   "metadata": {},
   "source": [
    "The most common words in relationship_advice after vectorizing with stop words are \"just\", \"like\" and \"don\".\n",
    "\n",
    "There are many common words used interchangeably in both dating_advice and relationship_advice. Hence, there is a higher chance that our model will perform better when we apply Tf-idfVectorizer, which gives a high weight to any term that appears often in a particular document, but not in many documents in the corpus."
   ]
  },
  {
   "cell_type": "markdown",
   "metadata": {},
   "source": [
    "# Preprocessing and Modeling"
   ]
  },
  {
   "cell_type": "markdown",
   "metadata": {},
   "source": [
    "Before we begin with our modeling, we will be creating a new column to map dating_advice and relationship_advice into a 0 and 1 category where 0 is relationship_advice while 1 is dating_advice before getting our baseline accuracy score."
   ]
  },
  {
   "cell_type": "code",
   "execution_count": 60,
   "metadata": {
    "ExecuteTime": {
     "end_time": "2019-10-24T15:36:12.318143Z",
     "start_time": "2019-10-24T15:36:12.300620Z"
    }
   },
   "outputs": [],
   "source": [
    "# create target variable, y which maps subreddit into a 1/0 column, where 1 indicates dating_advice\n",
    "df['y'] = [1 if i == 'dating_advice' else 0 for i in df['subreddit']]"
   ]
  },
  {
   "cell_type": "markdown",
   "metadata": {},
   "source": [
    "## Baseline"
   ]
  },
  {
   "cell_type": "code",
   "execution_count": 61,
   "metadata": {
    "ExecuteTime": {
     "end_time": "2019-10-24T15:36:12.340312Z",
     "start_time": "2019-10-24T15:36:12.321893Z"
    }
   },
   "outputs": [
    {
     "data": {
      "text/plain": [
       "0    0.507353\n",
       "1    0.492647\n",
       "Name: y, dtype: float64"
      ]
     },
     "execution_count": 61,
     "metadata": {},
     "output_type": "execute_result"
    }
   ],
   "source": [
    "df['y'].value_counts(normalize=True)"
   ]
  },
  {
   "cell_type": "markdown",
   "metadata": {},
   "source": [
    "The baseline accuracy for relationship_advice is 0.507353 and 0.492647 for dating_advice. With that, we will create our X and y variables with X being the column which we combined the title and text together and y being the numeric subreddit category which was just created. Thereafter, we will do a train test split on the X and y variables and begin training our model."
   ]
  },
  {
   "cell_type": "code",
   "execution_count": 62,
   "metadata": {
    "ExecuteTime": {
     "end_time": "2019-10-24T15:36:12.528421Z",
     "start_time": "2019-10-24T15:36:12.361565Z"
    }
   },
   "outputs": [],
   "source": [
    "# creating our X and y features\n",
    "X = df['full_text']\n",
    "y = df['y']"
   ]
  },
  {
   "cell_type": "code",
   "execution_count": 63,
   "metadata": {
    "ExecuteTime": {
     "end_time": "2019-10-24T15:36:12.630005Z",
     "start_time": "2019-10-24T15:36:12.543971Z"
    }
   },
   "outputs": [],
   "source": [
    "# Split data into training and testing sets\n",
    "from sklearn.model_selection import train_test_split, cross_val_score\n",
    "\n",
    "X_train, X_test, y_train, y_test = train_test_split(X, y, random_state=42, stratify=y)"
   ]
  },
  {
   "cell_type": "markdown",
   "metadata": {},
   "source": [
    "## CountVectorizer and LogisticRegression"
   ]
  },
  {
   "cell_type": "code",
   "execution_count": 64,
   "metadata": {
    "ExecuteTime": {
     "end_time": "2019-10-24T15:36:16.937247Z",
     "start_time": "2019-10-24T15:36:12.640530Z"
    },
    "scrolled": true
   },
   "outputs": [
    {
     "name": "stdout",
     "output_type": "stream",
     "text": [
      "Logistic regression model\n",
      "Train score: 0.8197\n",
      "Test score: 0.7119\n",
      "Number of features: 9908\n"
     ]
    },
    {
     "name": "stderr",
     "output_type": "stream",
     "text": [
      "/Users/kenricklow/anaconda3/lib/python3.7/site-packages/sklearn/linear_model/logistic.py:947: ConvergenceWarning: lbfgs failed to converge. Increase the number of iterations.\n",
      "  \"of iterations.\", ConvergenceWarning)\n"
     ]
    }
   ],
   "source": [
    "# Fit and predict a logistic regression model\n",
    "from sklearn.linear_model import LogisticRegression\n",
    "from sklearn.pipeline import make_pipeline\n",
    "from sklearn.metrics import roc_auc_score\n",
    "\n",
    "logr_model_cvec = make_pipeline(\n",
    "    cvec,\n",
    "    LogisticRegression(solver='lbfgs', multi_class='auto', random_state=42)\n",
    ")\n",
    "cv_scores = cross_val_score(logr_model_cvec, X_train, y_train, cv=5, scoring='roc_auc')\n",
    "logr_model_cvec.fit(X_train, y_train)\n",
    "y_pred = logr_model_cvec.predict(X_test)\n",
    "print('Logistic regression model')\n",
    "print(f'Train score: {round(cv_scores.mean(), 4)}')\n",
    "print(f'Test score: {round(roc_auc_score(y_test, y_pred), 4)}')\n",
    "print(f'Number of features: {len(logr_model_cvec.named_steps.countvectorizer.get_feature_names())}')"
   ]
  },
  {
   "cell_type": "markdown",
   "metadata": {},
   "source": [
    "Our first model using CountVectorizer and LogisticRegression has a train score of 0.8197 and test score of 0.7119. The model is also overfitted. Now, keeping LogisticRegression constant, let us see if we can reduce overfitting in the model while improving the train and test score if we use TfidfVectorizer instead."
   ]
  },
  {
   "cell_type": "markdown",
   "metadata": {},
   "source": [
    "## TfidfVectorizer and LogisticRegression"
   ]
  },
  {
   "cell_type": "code",
   "execution_count": 65,
   "metadata": {
    "ExecuteTime": {
     "end_time": "2019-10-24T15:36:21.833925Z",
     "start_time": "2019-10-24T15:36:16.941469Z"
    }
   },
   "outputs": [
    {
     "name": "stdout",
     "output_type": "stream",
     "text": [
      "Logistic regression model\n",
      "Train score: 0.8562\n",
      "Test score: 0.7748\n",
      "Number of features: 9908\n"
     ]
    }
   ],
   "source": [
    "logr_model_tfidf = make_pipeline(\n",
    "    tfidf,\n",
    "    LogisticRegression(solver='lbfgs', multi_class='auto', random_state=42)\n",
    ")\n",
    "cv_scores = cross_val_score(logr_model_tfidf, X_train, y_train, cv=5, scoring='roc_auc')\n",
    "logr_model_tfidf.fit(X_train, y_train)\n",
    "y_pred = logr_model_tfidf.predict(X_test)\n",
    "print('Logistic regression model')\n",
    "print(f'Train score: {round(cv_scores.mean(), 4)}')\n",
    "print(f'Test score: {round(roc_auc_score(y_test, y_pred), 4)}')\n",
    "print(f'Number of features: {len(logr_model_tfidf.named_steps.tfidfvectorizer.get_feature_names())}')"
   ]
  },
  {
   "cell_type": "markdown",
   "metadata": {},
   "source": [
    "Indeed, the model fitted using TfidfVectorizer together with LogisticRegression has a better train and test score. Overfitting was also reduced slightly. It seems that TfidfVectorizer performs better than countvectorizer. For the next 2 models, we will use a multinomial Naive Bayers classifier together with CountVectorizer and TfidfVectorizer to look at the performance between the different linear model."
   ]
  },
  {
   "cell_type": "markdown",
   "metadata": {},
   "source": [
    "## CountVectorizer and MultinomialNB"
   ]
  },
  {
   "cell_type": "code",
   "execution_count": 66,
   "metadata": {
    "ExecuteTime": {
     "end_time": "2019-10-24T15:36:28.389557Z",
     "start_time": "2019-10-24T15:36:21.839730Z"
    }
   },
   "outputs": [
    {
     "name": "stdout",
     "output_type": "stream",
     "text": [
      "Multinomial naive Bayes classifier\n",
      "Train score: 0.8512\n",
      "Test score: 0.7708\n",
      "Number of features: 9908\n"
     ]
    }
   ],
   "source": [
    "# Fit and predict a multinomial naive Bayes classifier\n",
    "from sklearn.naive_bayes import MultinomialNB\n",
    "\n",
    "mnb_model_cvec = make_pipeline(\n",
    "    cvec,\n",
    "    MultinomialNB()\n",
    ")\n",
    "cv_scores = cross_val_score(mnb_model_cvec, X_train, y_train, cv=5, scoring='roc_auc')\n",
    "mnb_model_cvec.fit(X_train, y_train)\n",
    "y_pred = mnb_model_cvec.predict(X_test)\n",
    "print('Multinomial naive Bayes classifier')\n",
    "print(f'Train score: {round(cv_scores.mean(), 4)}')\n",
    "print(f'Test score: {round(roc_auc_score(y_test, y_pred), 4)}')\n",
    "print(f'Number of features: {len(mnb_model_cvec.named_steps.countvectorizer.get_feature_names())}')"
   ]
  },
  {
   "cell_type": "markdown",
   "metadata": {},
   "source": [
    "## TfidfVectorizer and MultinomialNB"
   ]
  },
  {
   "cell_type": "code",
   "execution_count": 67,
   "metadata": {
    "ExecuteTime": {
     "end_time": "2019-10-24T15:36:31.336609Z",
     "start_time": "2019-10-24T15:36:28.422103Z"
    }
   },
   "outputs": [
    {
     "name": "stdout",
     "output_type": "stream",
     "text": [
      "Multinomial naive Bayes classifier\n",
      "Train score: 0.8552\n",
      "Test score: 0.7582\n",
      "Number of features: 9908\n"
     ]
    }
   ],
   "source": [
    "mnb_model_tfidf = make_pipeline(\n",
    "    tfidf,\n",
    "    MultinomialNB()\n",
    ")\n",
    "cv_scores = cross_val_score(mnb_model_tfidf, X_train, y_train, cv=5, scoring='roc_auc')\n",
    "mnb_model_tfidf.fit(X_train, y_train)\n",
    "y_pred = mnb_model_tfidf.predict(X_test)\n",
    "print('Multinomial naive Bayes classifier')\n",
    "print(f'Train score: {round(cv_scores.mean(), 4)}')\n",
    "print(f'Test score: {round(roc_auc_score(y_test, y_pred), 4)}')\n",
    "print(f'Number of features: {len(mnb_model_tfidf.named_steps.tfidfvectorizer.get_feature_names())}')"
   ]
  },
  {
   "cell_type": "markdown",
   "metadata": {},
   "source": [
    "The model with the best performance is surprisingly the model fitted with TfidfVectorizer and LogisticRegression while the model fitted with CountVectorizer and Multinomial Naive Bayes in a close second even though all the models are still overfitted. With that, the next step is to explore if applying lemmatization will further improve our model.\n",
    "\n",
    "|Specifications|Stem|Train Score|Test Score|\n",
    "|---|---|---|---|\n",
    "|CountVectorizer & LogisticRegression|NA|0.8197|0.7119|\n",
    "|TfidfVectorizer & LogisticRegression|NA|0.8562|0.7748|\n",
    "|CountVectorizer & MultinomialNB|NA|0.8512|0.7708|\n",
    "|TfidfVectorizer & MultinomialNB|NA|0.8552|0.7582|"
   ]
  },
  {
   "cell_type": "markdown",
   "metadata": {},
   "source": [
    "## Lemmatization"
   ]
  },
  {
   "cell_type": "code",
   "execution_count": 68,
   "metadata": {
    "ExecuteTime": {
     "end_time": "2019-10-24T15:36:31.387373Z",
     "start_time": "2019-10-24T15:36:31.345231Z"
    }
   },
   "outputs": [],
   "source": [
    "from nltk.stem import WordNetLemmatizer\n",
    "lemmatizer = WordNetLemmatizer()"
   ]
  },
  {
   "cell_type": "code",
   "execution_count": 69,
   "metadata": {
    "ExecuteTime": {
     "end_time": "2019-10-24T15:36:31.580931Z",
     "start_time": "2019-10-24T15:36:31.463083Z"
    }
   },
   "outputs": [],
   "source": [
    "def lemmatize_words(text):\n",
    "    words = text.split()\n",
    "    lemma_words = ''\n",
    "    for word in words:\n",
    "        lemma_words += (lemmatizer.lemmatize(word) + ' ')\n",
    "    return lemma_words"
   ]
  },
  {
   "cell_type": "code",
   "execution_count": 70,
   "metadata": {
    "ExecuteTime": {
     "end_time": "2019-10-24T15:36:36.351186Z",
     "start_time": "2019-10-24T15:36:31.601627Z"
    }
   },
   "outputs": [],
   "source": [
    "df['full_text_lemma'] = df['full_text'].apply(lemmatize_words)"
   ]
  },
  {
   "cell_type": "code",
   "execution_count": 71,
   "metadata": {
    "ExecuteTime": {
     "end_time": "2019-10-24T15:36:36.564641Z",
     "start_time": "2019-10-24T15:36:36.360292Z"
    }
   },
   "outputs": [],
   "source": [
    "X_lemma = df['full_text_lemma']"
   ]
  },
  {
   "cell_type": "code",
   "execution_count": 72,
   "metadata": {
    "ExecuteTime": {
     "end_time": "2019-10-24T15:36:36.622266Z",
     "start_time": "2019-10-24T15:36:36.574366Z"
    }
   },
   "outputs": [],
   "source": [
    "X_train_lemma, X_test_lemma, y_train_lemma, y_test_lemma = train_test_split(X_lemma, y, random_state=42, stratify=y)"
   ]
  },
  {
   "cell_type": "markdown",
   "metadata": {},
   "source": [
    "## CountVectorizer(Lemmatizer) and LogisticRegression"
   ]
  },
  {
   "cell_type": "code",
   "execution_count": 73,
   "metadata": {
    "ExecuteTime": {
     "end_time": "2019-10-24T15:36:41.361654Z",
     "start_time": "2019-10-24T15:36:36.630899Z"
    }
   },
   "outputs": [
    {
     "name": "stdout",
     "output_type": "stream",
     "text": [
      "Logistic regression model\n",
      "Train score: 0.8188\n",
      "Test score: 0.7203\n",
      "Number of features: 8958\n"
     ]
    }
   ],
   "source": [
    "# Fit and predict a logistic regression model\n",
    "logr_cvec_lemma = make_pipeline(\n",
    "    cvec,\n",
    "    LogisticRegression(solver='lbfgs', multi_class='auto', random_state=42, max_iter=1000)\n",
    ")\n",
    "cv_scores = cross_val_score(logr_cvec_lemma, X_train_lemma, y_train_lemma, cv=5, scoring='roc_auc')\n",
    "logr_cvec_lemma.fit(X_train_lemma, y_train_lemma)\n",
    "y_pred = logr_cvec_lemma.predict(X_test_lemma)\n",
    "print('Logistic regression model')\n",
    "print(f'Train score: {round(cv_scores.mean(), 4)}')\n",
    "print(f'Test score: {round(roc_auc_score(y_test_lemma, y_pred), 4)}')\n",
    "print(f'Number of features: {len(logr_cvec_lemma.named_steps.countvectorizer.get_feature_names())}')"
   ]
  },
  {
   "cell_type": "markdown",
   "metadata": {},
   "source": [
    "## TfidfVectorizer(Lemmatizer) and LogisticRegression"
   ]
  },
  {
   "cell_type": "code",
   "execution_count": 74,
   "metadata": {
    "ExecuteTime": {
     "end_time": "2019-10-24T15:36:45.213315Z",
     "start_time": "2019-10-24T15:36:41.369734Z"
    }
   },
   "outputs": [
    {
     "name": "stdout",
     "output_type": "stream",
     "text": [
      "Logistic regression model\n",
      "Train score: 0.8568\n",
      "Test score: 0.779\n",
      "Number of features: 8958\n"
     ]
    }
   ],
   "source": [
    "logr_tfidf_lemma = make_pipeline(\n",
    "    tfidf,\n",
    "    LogisticRegression(solver='lbfgs', multi_class='auto', random_state=42)\n",
    ")\n",
    "cv_scores = cross_val_score(logr_tfidf_lemma, X_train_lemma, y_train_lemma, cv=5, scoring='roc_auc')\n",
    "logr_tfidf_lemma.fit(X_train_lemma, y_train_lemma)\n",
    "y_pred = logr_tfidf_lemma.predict(X_test_lemma)\n",
    "print('Logistic regression model')\n",
    "print(f'Train score: {round(cv_scores.mean(), 4)}')\n",
    "print(f'Test score: {round(roc_auc_score(y_test_lemma, y_pred), 4)}')\n",
    "print(f'Number of features: {len(logr_tfidf_lemma.named_steps.tfidfvectorizer.get_feature_names())}')"
   ]
  },
  {
   "cell_type": "markdown",
   "metadata": {},
   "source": [
    "## CountVectorizer(Lemmatizer) and MultinomialNB"
   ]
  },
  {
   "cell_type": "code",
   "execution_count": 75,
   "metadata": {
    "ExecuteTime": {
     "end_time": "2019-10-24T15:36:48.054797Z",
     "start_time": "2019-10-24T15:36:45.218714Z"
    }
   },
   "outputs": [
    {
     "name": "stdout",
     "output_type": "stream",
     "text": [
      "Multinomial naive Bayes classifier\n",
      "Train score: 0.8533\n",
      "Test score: 0.7688\n",
      "Number of features: 8958\n"
     ]
    }
   ],
   "source": [
    "# Fit and predict a multinomial naive Bayes classifier (suits with discrete features)\n",
    "mnb_cvec_lemma = make_pipeline(\n",
    "    cvec,\n",
    "    MultinomialNB()\n",
    ")\n",
    "cv_scores = cross_val_score(mnb_cvec_lemma, X_train_lemma, y_train_lemma, cv=5, scoring='roc_auc')\n",
    "mnb_cvec_lemma.fit(X_train_lemma, y_train_lemma)\n",
    "y_pred = mnb_cvec_lemma.predict(X_test_lemma)\n",
    "print('Multinomial naive Bayes classifier')\n",
    "print(f'Train score: {round(cv_scores.mean(), 4)}')\n",
    "print(f'Test score: {round(roc_auc_score(y_test_lemma, y_pred), 4)}')\n",
    "print(f'Number of features: {len(mnb_cvec_lemma.named_steps.countvectorizer.get_feature_names())}')"
   ]
  },
  {
   "cell_type": "markdown",
   "metadata": {},
   "source": [
    "## TfidfVectorizer(Lemmatizer) and MultinomialNB"
   ]
  },
  {
   "cell_type": "code",
   "execution_count": 76,
   "metadata": {
    "ExecuteTime": {
     "end_time": "2019-10-24T15:36:50.619274Z",
     "start_time": "2019-10-24T15:36:48.059246Z"
    }
   },
   "outputs": [
    {
     "name": "stdout",
     "output_type": "stream",
     "text": [
      "Multinomial naive Bayes classifier\n",
      "Train score: 0.8533\n",
      "Test score: 0.7562\n",
      "Number of features: 8958\n"
     ]
    }
   ],
   "source": [
    "mnb_tfidf_lemma = make_pipeline(\n",
    "    tfidf,\n",
    "    MultinomialNB()\n",
    ")\n",
    "cv_scores = cross_val_score(mnb_cvec_lemma, X_train_lemma, y_train_lemma, cv=5, scoring='roc_auc')\n",
    "mnb_tfidf_lemma.fit(X_train_lemma, y_train_lemma)\n",
    "y_pred = mnb_tfidf_lemma.predict(X_test_lemma)\n",
    "print('Multinomial naive Bayes classifier')\n",
    "print(f'Train score: {round(cv_scores.mean(), 4)}')\n",
    "print(f'Test score: {round(roc_auc_score(y_test_lemma, y_pred), 4)}')\n",
    "print(f'Number of features: {len(mnb_cvec_lemma.named_steps.countvectorizer.get_feature_names())}')"
   ]
  },
  {
   "cell_type": "markdown",
   "metadata": {
    "ExecuteTime": {
     "end_time": "2019-10-22T16:36:59.813873Z",
     "start_time": "2019-10-22T16:36:59.732609Z"
    }
   },
   "source": [
    "After lemmatization, 4 models of the same type was fitted and scored with the results as below. The overall best performing model is the model fitted with TfidfVectorizer, lemmatization applied and LogisticRegression. However, it is only slightly better than the model fitted with TfidfVectorizer without lemmatization and LogisticRegression. With that, we will perform GridSearchCV on our model fitted with TfidfVectorizer with lemmatization applied and LogisticRegression to find out what are the best parameters to fit together with the model.\n",
    "\n",
    "|Specifications|Stem|Train Score|Test Score|\n",
    "|---|---|---|---|\n",
    "|CountVectorizer & LogisticRegression|NA|0.8197|0.7119|\n",
    "|TfidfVectorizer & LogisticRegression|NA|0.8562|0.7748|\n",
    "|CountVectorizer & MultinomialNB|NA|0.8512|0.7708|\n",
    "|TfidfVectorizer & MultinomialNB|NA|0.8552|0.7582|\n",
    "|CountVectorizer & LogisticRegression|Lemma|0.8188|0.7203|\n",
    "|TfidfVectorizer & LogisticRegression|Lemma|0.8568|0.779|\n",
    "|CountVectorizer & MultinomialNB|Lemma|0.8533|0.7688|\n",
    "|TfidfVectorizer & MultinomialNB|Lemma|0.8533|0.7562|"
   ]
  },
  {
   "cell_type": "markdown",
   "metadata": {},
   "source": [
    "## GridSearch"
   ]
  },
  {
   "cell_type": "code",
   "execution_count": 77,
   "metadata": {
    "ExecuteTime": {
     "end_time": "2019-10-24T15:36:50.628971Z",
     "start_time": "2019-10-24T15:36:50.624307Z"
    }
   },
   "outputs": [],
   "source": [
    "from sklearn.pipeline import Pipeline\n",
    "from sklearn.model_selection import GridSearchCV"
   ]
  },
  {
   "cell_type": "code",
   "execution_count": 78,
   "metadata": {
    "ExecuteTime": {
     "end_time": "2019-10-24T15:40:14.297353Z",
     "start_time": "2019-10-24T15:36:50.632825Z"
    },
    "scrolled": false
   },
   "outputs": [
    {
     "name": "stdout",
     "output_type": "stream",
     "text": [
      "Fitting 5 folds for each of 81 candidates, totalling 405 fits\n"
     ]
    },
    {
     "name": "stderr",
     "output_type": "stream",
     "text": [
      "[Parallel(n_jobs=-1)]: Using backend LokyBackend with 4 concurrent workers.\n",
      "[Parallel(n_jobs=-1)]: Done  42 tasks      | elapsed:   28.2s\n",
      "[Parallel(n_jobs=-1)]: Done 192 tasks      | elapsed:  1.7min\n",
      "[Parallel(n_jobs=-1)]: Done 405 out of 405 | elapsed:  3.3min finished\n"
     ]
    },
    {
     "name": "stdout",
     "output_type": "stream",
     "text": [
      "Best params: {'log_reg__multi_class': 'auto', 'log_reg__random_state': 42, 'log_reg__solver': 'lbfgs', 'tfidf__max_df': 0.5, 'tfidf__max_features': 10000, 'tfidf__ngram_range': (1, 3), 'tfidf__stop_words': 'english'}\n",
      "Train score: 0.8627\n",
      "Test score: 0.7878\n",
      "Number of features: 10000\n"
     ]
    }
   ],
   "source": [
    "pipe = Pipeline([\n",
    "    ('tfidf', TfidfVectorizer()),\n",
    "    ('log_reg', LogisticRegression())\n",
    "])\n",
    "\n",
    "parameters = {\n",
    "    'tfidf__stop_words': ['english'],\n",
    "    'tfidf__max_df': [0.25, 0.5, 0.75],\n",
    "    'tfidf__ngram_range': [(1, 1), (1, 2), (1, 3)],\n",
    "    'tfidf__max_features': [2000,3000,4000,5000,6000,7000,8000,9000,10000],\n",
    "    'log_reg__solver': ['lbfgs'],\n",
    "    'log_reg__multi_class': ['auto'],\n",
    "    'log_reg__random_state': [42]\n",
    "}\n",
    "\n",
    "gs = GridSearchCV(pipe, parameters, cv=5, scoring='roc_auc', iid=False, n_jobs=-1, verbose=1)\n",
    "gs.fit(X_train_lemma, y_train_lemma)\n",
    "print(f\"Best params: {gs.best_params_}\")\n",
    "print(f'Train score: {round(gs.best_score_, 4)}')\n",
    "print(f'Test score: {round(gs.best_estimator_.score(X_test_lemma, y_test_lemma), 4)}')\n",
    "print(f'Number of features: {len(gs.best_estimator_.named_steps.tfidf.get_feature_names())}')"
   ]
  },
  {
   "cell_type": "markdown",
   "metadata": {},
   "source": [
    "Since we kept the parameters for LogisticRegression constant, GridSearchCV chose the best parameters for TfidfVectorizer and return the model with the best score thus far. The best parameters for TfidfVectorizer are as follows:\n",
    "\n",
    "- max_df: 0.5\n",
    "- max_features: 10000\n",
    "- ngram_range: (1, 3)\n",
    "- stop_words: english\n",
    "\n",
    "|Specifications|Stem|Train Score|Test Score|\n",
    "|---|---|---|---|\n",
    "|CountVectorizer & LogisticRegression|NA|0.8197|0.7119|\n",
    "|TfidfVectorizer & LogisticRegression|NA|0.8562|0.7748|\n",
    "|CountVectorizer & MultinomialNB|NA|0.8512|0.7708|\n",
    "|TfidfVectorizer & MultinomialNB|NA|0.8552|0.7582|\n",
    "|CountVectorizer & LogisticRegression|Lemma|0.8188|0.7203|\n",
    "|TfidfVectorizer & LogisticRegression|Lemma|0.8568|0.779|\n",
    "|CountVectorizer & MultinomialNB|Lemma|0.8533|0.7688|\n",
    "|TfidfVectorizer & MultinomialNB|Lemma|0.8533|0.7562|\n",
    "|GridSearch(TfidfVectorizer & MultinomialNB)|Lemma|0.8627|0.7878|\n",
    "\n",
    "As such, we will be using the model with TfidfVectorizer together with the parameters selected for TdidfVectorizer and LogisticRegression."
   ]
  },
  {
   "cell_type": "markdown",
   "metadata": {},
   "source": [
    "# Evaluation and Conceptual Understanding"
   ]
  },
  {
   "cell_type": "code",
   "execution_count": 79,
   "metadata": {
    "ExecuteTime": {
     "end_time": "2019-10-24T15:40:16.803843Z",
     "start_time": "2019-10-24T15:40:14.306071Z"
    }
   },
   "outputs": [],
   "source": [
    "logr_tfidf_lemma = make_pipeline(\n",
    "    TfidfVectorizer(max_df=0.5,max_features=10000,ngram_range=(1, 3),stop_words='english'),\n",
    "    LogisticRegression(solver='lbfgs', multi_class='auto', random_state=42)\n",
    ")\n",
    "logr_tfidf_lemma.fit(X_train_lemma, y_train_lemma)\n",
    "y_pred = logr_tfidf_lemma.predict(X_test_lemma)"
   ]
  },
  {
   "cell_type": "code",
   "execution_count": 80,
   "metadata": {
    "ExecuteTime": {
     "end_time": "2019-10-24T15:40:16.857677Z",
     "start_time": "2019-10-24T15:40:16.808326Z"
    }
   },
   "outputs": [
    {
     "data": {
      "text/html": [
       "<div>\n",
       "<style scoped>\n",
       "    .dataframe tbody tr th:only-of-type {\n",
       "        vertical-align: middle;\n",
       "    }\n",
       "\n",
       "    .dataframe tbody tr th {\n",
       "        vertical-align: top;\n",
       "    }\n",
       "\n",
       "    .dataframe thead th {\n",
       "        text-align: right;\n",
       "    }\n",
       "</style>\n",
       "<table border=\"1\" class=\"dataframe\">\n",
       "  <thead>\n",
       "    <tr style=\"text-align: right;\">\n",
       "      <th></th>\n",
       "      <th>predict dating_advice</th>\n",
       "      <th>predict relationship_advice</th>\n",
       "    </tr>\n",
       "  </thead>\n",
       "  <tbody>\n",
       "    <tr>\n",
       "      <td>actual dating_advice</td>\n",
       "      <td>196</td>\n",
       "      <td>46</td>\n",
       "    </tr>\n",
       "    <tr>\n",
       "      <td>actual relationship_advice</td>\n",
       "      <td>55</td>\n",
       "      <td>179</td>\n",
       "    </tr>\n",
       "  </tbody>\n",
       "</table>\n",
       "</div>"
      ],
      "text/plain": [
       "                            predict dating_advice  predict relationship_advice\n",
       "actual dating_advice                          196                           46\n",
       "actual relationship_advice                     55                          179"
      ]
     },
     "execution_count": 80,
     "metadata": {},
     "output_type": "execute_result"
    }
   ],
   "source": [
    "# Generate a confusion matrix\n",
    "from sklearn.metrics import confusion_matrix\n",
    "\n",
    "pd.DataFrame(confusion_matrix(y_test_lemma, y_pred),\n",
    "            columns=['predict dating_advice', 'predict relationship_advice'],\n",
    "            index=['actual dating_advice', 'actual relationship_advice'])"
   ]
  },
  {
   "cell_type": "code",
   "execution_count": 81,
   "metadata": {
    "ExecuteTime": {
     "end_time": "2019-10-24T15:40:16.880428Z",
     "start_time": "2019-10-24T15:40:16.864547Z"
    }
   },
   "outputs": [
    {
     "name": "stdout",
     "output_type": "stream",
     "text": [
      "Accuracy: 0.7878\n",
      "Misclassification rate: 0.2122\n",
      "Precision: 0.7956\n",
      "Recall: 0.765\n",
      "Specificity: 0.8099\n"
     ]
    }
   ],
   "source": [
    "# Examine some classification metrics \n",
    "tn, fp, fn, tp = confusion_matrix(y_test_lemma, y_pred).ravel()\n",
    "print(f'Accuracy: {round((tp+tn)/(tp+fp+tn+fn),4)}')\n",
    "print(f'Misclassification rate: {round((fp+fn)/(tp+fp+tn+fn),4)}')\n",
    "print(f'Precision: {round(tp/(tp+fp),4)}')\n",
    "print(f'Recall: {round(tp/(tp+fn),4)}')\n",
    "print(f'Specificity: {round(tn/(tn+fp),4)}')"
   ]
  },
  {
   "cell_type": "markdown",
   "metadata": {},
   "source": [
    "- Our model correctly predicts 78.78% of observations.\n",
    "- Among posts that our model predicted to be in relationship_advice, we have 79.56% of them correctly classified.\n",
    "- Among posts that are in relationship_advice, our model has 76.50% of them correctly classified.\n",
    "- Among posts that are in dating_advice, our model has 80.99% of them correctly classified."
   ]
  },
  {
   "cell_type": "code",
   "execution_count": 86,
   "metadata": {
    "ExecuteTime": {
     "end_time": "2019-10-24T15:40:17.005647Z",
     "start_time": "2019-10-24T15:40:16.956784Z"
    },
    "scrolled": true
   },
   "outputs": [
    {
     "name": "stdout",
     "output_type": "stream",
     "text": [
      "Am I wrong for feeling upset Everyone is y o So long story short I have feeling for my best friend I ll cal him J and I have reason to believe that at one point he did too but cut thing off because he doesn t like feeling make him feel out of control Now I have a friend female that I invited over once a couple of month ago because she wa going through some problem and my group of friend are fun people and I wanted to make her feel better I told her my situation with J and explained that it would upset me if they ever got involved She assured me nothing would ever happen because she care about me Fast forward a couple week and she end up sleeping in his bed with him They weren t physical but the situation made me uncomfortable and I expressed this to her She explained it wa an accident Fast forward like a month to Saturday night We were all drinking She go upstairs to fall asleep on the couch I went up there to talk to her about another unrelated situation and J wa there sleeping on the couch also I had a short conversation with J and I suppose I woke her up and she left the room Later on J also leaf the room and go to his bed to fall asleep I go downstairs to look for her and she wa no where to be found I thought it wa odd but I went back upstairs and a I passed his bedroom I heard them both talking I got upset and walked outside to get some air and my friend Js best friend roommate followed me out and he told me I should go upstairs and tell them both how I felt I didn t agree with this at first and said i didn t want to do it He asked me why not and eventually convinced me to do it So I did and I immediately regretted it She started yelling at me and then left even tho I told her not to because she wa drunk I feel terrible about the way I handled the situation and am aware I handled the situation wrong However I don t feel like me being upset about it wa wrong Tl dr I have feeling for a friend and after telling my female friend that I brought into the group about it she said she wouldn t do anything with him She slept in his bed once didn t get physical and apologized said it wa an accident Did it again and I overreacted to the situation and handled it badly but do I still have a right to be angry hurt that she doesn t care about my feeling towards him \n",
      "--------------------\n",
      "Relationship history off putting I feel like I have had a pretty normal relationship past for someone my age m I have been in two long term relationship since I wa the first lasting year for which I have a child from The second wa a year relationship with being married for of those year which ended in March this year not yet divorced and won t be until next year I don t bring up this topic myself but am always honest about my situation when asked I ve had a string of first date where the woman all around my age are really put off by this One even said she wouldn t go out with me again because I ve ever been married in the first place and another said after we had sex that she doesn t normally sleep with married men I m not sure how to explain my situation when asked without scaring someone off and feel that I am being punished for being in serious relationship before I don t think there is a right answer to this and maybe these woman just found an easy excuse to not go on a second date I just needed to vent really a it s starting to bum me out \n",
      "--------------------\n",
      "if you move out we re broken up Hi friend I m taking this question to reddit because I don t have many friend due to isolation from school So a quick little backstory I m year old f Boyfriend and I have been together for year We just moved in together in April of I m currently studying to get a PhD in Neuroscience I recently had two job but due to getting bullied at work adding to my already severe depression yes I went to HR nothing happened to the person so I left that job I now have one job where I work maybe two day a week leaving me unable to afford to feed myself let alone pay rent recently had an argument where he blamed my depression and education on why he couldn t do anything better with his life and when doe he get the chance to do that My mother became worried so I told her what wa going on She told me to come live back home until I get on my foot again But my long term boyfriend ha told me if I move out we re broken up and I ve spoken to him about it but he won t see my pov I guess I m more so trying to see if what he s doing is right or wrong in your opinion I m worried I m maybe not seeing it right either so yeah x Sorry for the rambling Edit spelling Update Thank you Thank you all immensely for your response I appreciate you all so much for support and opinion on the situation I m in \n",
      "--------------------\n",
      "Confusing behavior please help My coworker and I have had pretty big crush on each other for a long time now We both ended our previous relationship and pretty soon after began texting His ex ha a lot of drug issue and unfortunately is shacked up with him until she find a place to live Her situation is really sad and he ha a lot of sympathy for her which I completely understand However she completely affect his mood and behavior towards me She freak out when she find out he s hanging out with me and make him feel like shit about it She steal money from him and put him in these awful mood all the time I ve been seeing him for about a month now and he claim he really like me but after we started having sex there s been multiple occasion where he just flat out ignores me I tried to end thing with him one night and he started cry but now five day later it s back to ignoring me and treating me like I don t matter again I know he ha a lot going on at home but I feel like my feeling just don t matter and I keep getting cast to the side I feel like shit and I kind of want to end thing but I like him so much I m so confused Should I just give him space until she move out in a couple of week Or is it stupid to keep trying \n",
      "--------------------\n",
      "Need tip on getting a girlfriend I m year old and male Never had a girlfriend before but I really want one now I have zero experience with girl so I feel like I have no idea what I m doing \n",
      "--------------------\n",
      "Those who come from broken home and now in healthy marriage relationship how did you learn to love properly So I M come from a pretty split up home Parents divorced when I wa and then witnessed more divorce I m wa visiting my dad and his fiance when at the end of the night they started arguing As an all too familiar thing to me I just go into the bedroom I m crashing in and leave it be Though this time I started reflecting on my past relationship and noticed I have some of the same tenancy a my dad I can t help but think that I m fucked when it come to relationship bc I ve never seen what a healthy one look like \n",
      "--------------------\n",
      "Is she lying about being pregnant I wa in a relationship with this guy and we were planning to get married This summer he had left me because he told me he wa interested in another girl Fast forward month he contact me again out of the blue and tell me how much he regretted what he did and how he want to start over with me again We all make mistake that we regret and he seemed genuinely sorry so I forgave him and got back together with him A little while later after we got back together this girl he previously left me for they were never in an official relationship apparently and it wa short lived her sister contact my boyfriend saying that this girl is pregnant However the sister ha been very vague and not giving out any detail and same with the girl The girl ha also made claim to him that she is pregnant but my boyfriend ha not seen any proof of this She life in another town hour away and ha not even been to see him to discus this Furthermore it is month later and she still refuse to give any detail at all a well a her sister I ve tried telling my boyfriend that I believe they are lying to him a they are refusing to give him any detail about anything but I am afraid he is falling for their lie and game a they string him along with no information or proof to back anything up My boyfriend even mentioned to me that with the way her sister and her told it to him he doesn t feel it should be trusted But he continues to stress out a they are not giving him any information She ha not sent him any picture of a positive pregnancy test no information from a doctor s appointment nothing at all I ve began to distance myself from the situation a this is not what I had signed up for when I had gotten back together with him My intuition is telling me that this girl and her sister are lying to him After month of being pregnant there would have been something to show for it I would like to know other people s honest opinion on this situation and any advice would be appreciated Tl dr Boyfriend left me for another girl they were not officially dating and it wa short lived then we got back together a few month later and shortly after we got back together this girl claim she is pregnant and her sister say this girl is pregnant too yet they both haven t given any information or proof and are continuing to refuse to give any information regarding this pregnancy month later \n",
      "--------------------\n",
      "What happens during the friendship romantic transition period Also is it weird to have a boyfriend for the sake of having one My friend and i are in the phase where we are kind of half way into getting into a relationship He is looking for casual relationship and i am quite okay with that I am also not looking for happily ever after However even before committing we keep fighting a lot And i feel like i am kind of making a huge deal out of it I have never been in a relationship before So this whatever this is all new for me I thought i wa not silly and he keep getting into my head and i am doing all the irrational thing Everything is casual and fun for him and i am more of a serious formal person I don t know if i am being picky about it I keep finding fault and also annoying him I feel like i am destroying everything even before it could start Is this normal in a friendship romantic transition time period I am very confused You know people say listen to your gut my gut is saying this is gonna be very bad for me But when we are in the happy land i am very happy and wanna know how it is to have a boy friend around The point is it s not about having him around it s about having anyone with the tag boy friend Is this weird \n",
      "--------------------\n",
      "Am I overreacting because I didn t receive a good morning text So my boyfriend and I have a routine We alternate between sending good morning text no set time we just alternate well I decided to wait for him to text me this morning Fast forward to pm where I have to text him because he hasn t texted me apparently he got up at He just said he wa really distracted Then he said he didn t want to talk today but he wasn t upset with me Now in previous relationship I wa always given silent treatment when my SO wa mad at me So now I m nervous and kind of upset it s put a damper on my day and I don t really want to talk to him now Am I overreacting If so what can I do in the future so I don t take stuff like this so personally \n",
      "--------------------\n",
      "I m Lonely because im single I feel lonely all the time because i ve been single for the past or so year im a year old powerlifter Im in great shape now but i used to be fat and that hit my confidence really hard I can t seem to ever get a girlfriend and because of that i feel lonely and depressed all the time I try talking to girl a much a i can to try and be more social and help to find someone but i always get rejected and i dont know how to deal with this i dont know what im doing wrong and i hate myself more and more because of it please help \n",
      "--------------------\n",
      "How to stop falling for my friend How can I stop from falling for my friend I know they aren t interested and it s stressing my relationship with them I don t want to keep falling for them especially considering the fact they are not interested romantically in me at all And how can I get myself to fall out of love for my friend \n",
      "--------------------\n",
      "lost on what to do I m trying to figure out how to handle my current situation a currently it s not going well in basic me m and my wife f of year are in a bit of a rough patch due to her ideology and act A few month back I caught her flirting with multiple people online and in person even had the gut the do it in person with someone she claimed wa only a friend once the truth wa out I ask her to stop because my opinion on the matter is flirting is cheating because it open the door to further thing she refused and ha continued but ha been more secretive about it she s changed password deleted message the whole yard or someone hiding thing not to mention over the past year or so ha been a dead spot a far a bedroom and conversation despite my effort to change thing I ve poured everything I have into the relationship I changed my way and my job to better our situation and provide for my bio daughter and step daughter I m at a loss on what to do I don t want to give thing up and I want to make thing work but it seems like no matter what I do it not working and I honestly can t tell if she still feel the same way that she did and talking to her about it is a mute point a her immediate response is to get angry and yell even when I approach the subject calmly if anyone could give incite it d be greatly appreciated I have no current people in my circle so I have no one to speak to on these matter my job status made most leave and avoid me and I think that s another part of my issue thank you \n",
      "--------------------\n",
      "Feeling mad sad about a guy I dated for one month I m too embarrassed to talk to my friend family because I m going to come off a an idiot but it s been ruining my week so I need to talk about it SO I f haven t dated or done anything with a guy in a year since my last kind of serious thing that lasted month so I downloaded a dating app a month ago to maybe test the water again A day or so in I matched with a guy let s call him Eric m We hit it off right away and made plan to grab drink after day of texting on the app Before the date I stalked his instagram his first and last name were on his profile and saw he had dozen of tagged photo with a girl who wa obviously his girlfriend But she hadn t posted them in awhile so I assumed they broke up at least a month before he met me Anyways our first date went AMAZING and he asked to see me again a we parted way Our second date wa a week later and it went just a good he wa really great and I wa super happy I met someone so compatible with me so quickly into dating again I really got my hope up dumb After our third date is when he told me he s in an open relationship fuck no and that his girlfriend of year he s came out a bi a year ago and a couple month ago she decides to go overseas and a month ago is when she wanted to open the relationship up and he wa reluctant but didn t want to stifle who she is I wasn t keen on being in an open relationship so I kind of told him that And he said he s not comfortable with the open relationship thing either he said he s a monogamous man and that he like me a lot I told him I liked him too and where we left it off wa maybe we shouldn t do this anymore if we re both going to catch feeling I wa sad but happy I made clear line and wa ready to move on I even made the joke he s perfect except the girlfriend part But he called me day after our third date and told me him and his girlfriend broke up and he want to see me I Was THRILLED We talked and he said he need some space to mourn but he s really excited to see me again and I told him I wa fine with that We texted for around week very flirty and friendly and he kept saying he wa looking forward to seeing me again I also noticed he deleted the dating app we met on But NOW out of nowhere he s ghosted me He hasn t texted me back in a week when we would text every day but he s active on his social medium which I don t follow him on I feel so upset I deleted his number and I m trying to have more self respect so I m trying to go by the if they wanted to they would have mantra I constantly feel like I m waiting for him to text me or call but I don t think that s going to happen I honestly don t think he and his girlfriend got back together since she broke up with him and she s still overseas dating other men and woman Any idea what happened and how I can find closure within myself I feel really bad and upset \n",
      "--------------------\n",
      "Always going back to ex that hurt u Why doe this happen I finally broke the cycle of year of always running back to my ex Reconnected with someone and we hit it off REAL good and he asked me to be his girlfriend Then last week he hit me up saying he s not ready and started to block me until I noticed he wa talking to his ex again who cheated on him year ago Why \n",
      "--------------------\n",
      "I never make a move because I m too scared to mess everything up but I m starting to get real lonely and depressed Hi all just found this sub I thought I d just try and see if this is something advice from kind stranger might help me out with Hope this question fit the sub rule First off I m y male and am very awkward in meaningful relationship with woman I can t figure out why exactly but it s there like this a long a I can remember I do have a lot of friend male and female and am generally quite confident with myself and in a lesser way confident ish with my body Over the past year I ve actually had a couple girl hit on me in a very obvious way Though my fear of fucking thing up mainly upsetting someone by misreading their signal ha always made me lock up in all of those situation Even though I keep telling myself to not be scared the next time it s something I can t seem to control My whole life ha been evolving around treating everyone equal and to never make anyone upset or dislike me I usually see this a one of my best quality but my fear of making someone disgust me by making the wrong move just lock me up into a place where I m starving of some phisical attention Not even sex or anything but someone to hug and someone to talk to and show affection and love to It s starting to really depress me to have a lot of friend and quite some girl with whom I have great relationship and even potential for more but to now have the fear I ll never be able to get over this and continue the rest of my life lonely I d take any advice on this really harsh obvious Anything I ve told myself so many time it won t matter to try it once but the logical reasoning get overshadowed by my impuls to not upset or disgust anyone Feels great to type this up so even if this post dy here I already feel a little better \n",
      "--------------------\n",
      "Applying for the same job Me and my ex maybe soon to be SO again work at the same place A promotion just opened up and it the job he originally wanted But I want more money and he probably wont get it for two reason One the manager of that area hate him and two he currently deployed The manager love me but I have ZERO qualification The job also isn t what it wa like the job description have changed Anyway I texted him and asked if he would be mad if I got the job over him And he basically told me I m greedy and selfish and that once I see more money I wont care about his feeling I m hurt cause I am obsessed with this dude Hes all i think about Like it a little gross Like in a weird little nerdy middle schooler who is in love with a celebrity kind of gross I don t want to blow my chance and lose him AGAIN But I also don t want to hinder my career for a boy and be stereotypical when we aren t even dating I feel like I just answered my own question lol What should I do or any advice on how to navigate this situation \n",
      "--------------------\n",
      "Casually dating ex that date her ex Long story but I ll try to keep it short About year ago I wa engaged to the love of my life with a baby on the way She ended up leaving bc I had a drinking problem but have since gotten it under control year sober In that time she got into a serious relationship for about a year and half The guy wa in my daughter s life and seemed okay but broke it off bc he decide he d rather not have kid or be a stepdad For the last year they have been friend with benefit pretty much Once she start dating he come crawling back and she drop whoever for him Now to me we eventually started taking family trip and for the past month have been hooking up She text me everyday is affectionate etc Until he come around then I get ghosted We re both single and she say she need to work on herself and she need time to get to know me again She get mad if I ask about him Sometimes she ll say they hang and others she won t She go back and forth on what she say I really care about her and the trip made me realize what I m missing with a family that s together Ive always been involved in my daughter s life every weekend and some weekday but doing thing together with the kid brings me so much happiness As well a the alone time with her I cherish it But how is it so easy to spend the entire weekend with me then have him over and sleep with him I need an outside perspective Do I stand a chance She claim she doesn t want him but I m the first one dropped when he come around My head is spinning What are your opinion about this and any advice would be greatly appreciated \n",
      "--------------------\n",
      "I M have a crush on my new friend coworker F I work the overnight shift at a coffee shop and in September we got a new coworker Cayleigh who is a friend with another coworker friend Anthony While I worked with Cayleigh twice where she worked till midnight we got along decently well and found out we liked the same music On our third shift together it wa our first time working together entirely solo of u in the shop hour and we clicked like crazy Anthony visit u so they can take a break and smoke weed in the parking lot and I guess Anthony told her I struggle with depression because she would periodically over the drive thru headset say Tyran you are a wonderful man Love yourself Stuff like that On my birthday she sent happy birthday With like blue heart emojis In mid September I asked her to go hiking She s much more in shape than me and rock climb so my fat as struggled a bit but she left me for a bit because she wanted to climb to the peak of the mountain When she came back down after being gone minute we talked for an hour about her life and growing up and then we went to lunch at a chinese place She paid since I drove to the hike also made fun of my driving skill oops i told her I enjoy her company and she said don t worry I m not going anywhere anytime soon after the hike I paused before shaking her hand and she said it wa okay to hug her A week later on a Thursday I asked her if we could hang out again Friday or Saturday she said she s taking her dog on an advanced hike and Saturday she work Problem is our shift don t start till pm and when we hiked I worked so I wa a little stung When we worked together we still get along I once gave her shit for how she wa making a drink and when I found out she made it right I wrote her a I m sorry note and when she read it she stood up and hugged me and said it wa okay I texted Anthony I had a crush on her and he brushed it off that I wa being dumb you always have crush on girl who work graveyard A week later when working with him I talked to Anthony that I wa serious He told me a of day ago she wa dating a mutual friend That relationship lasted a week she ended it with him because she liked him better a a friend and there wa red flag She still find way to sneak in hug she came in after being outside because she wa cold and went to hug me I still occassionally get blue heart in text When she notice I m down she asks me what s wrong and seems very caring We don t work much together and I want to find some way to tell her that I like her without being too pushy or too creepy Ya know Definitely want to give her time I m curious what the red flag are but I m wondering if the breakup wa handled worse than she ll say Especially since she want to know when her ex and his friend stop by I don t want to tell her I m in love with her or anything Lmao help please Tl dr wanna ask out my friend without being weird getting mixed signal shes interested I also tried being a good boy and tried looking for previous post but none seemed like mine \n",
      "--------------------\n",
      "You can t always protect someone from getting their heart broken From my dating experience I m okay with sharing that I m glad I ve gotten my heart broken Maybe it wa never completely shattered but I learned enough I dated an ex for about a year until I finally decided to break up with him for good No one liked him though and the reason were valid Of course being young and having my first real boyfriend I put my foot down every time I get it you want to protect your friend sibling child or whatever but you HAVE to let them fall flat on their face to learn and I wish my former friend and my mom understood this My mom would tell me all the time she didn t like him because she wa so sure that he wa married I never found out if he wa or not but I always had a gut feeling that I wa more than likely his side piece Today I m in a wonderful relationship with a man who know how to treat me the way I m supposed to be treated and vice versa I don t just thank my ex but I thank every other guy I ve dated for learning from each one on what I did and did not want in a relationship Bottom line you might hate that person someone you love is dating but you have to let them fall sometimes But please remember to be there for them the moment they fall flat They ll appreciate it and they ll need you more than anything \n",
      "--------------------\n",
      "I [ F] don t like his teeth [ M] I ve been talking to this guy for a few month We live across the world but he had plan to come down to my city to work and get a job so we further pursued it We met up a few day ago and it wa good I noticed from the start he didn t have the best teeth so i tried to brush it off but now it s starting to bother me It s one thing to have crooked teeth and slightly yellow but he ha a lot of plaque and he ha black mould growing on his teeth His breath doesn t smell but because of his bad teeth the more I kiss him the more repulsed I get He tick everything but he s teeth I don t mean to be shallow I ve been fine with guy with small teeth imperfection but once your teeth get black that s a serious sign of bad oral hygiene I am a bit stuck on what to do it s been alright apart from the teeth issue and I don t know what to say to him I guess because he won t be down here again until a good few month so I can decide whether to continue but in all honestly his teeth bother me \n",
      "--------------------\n",
      "Need advice asap My gf f life pretty far from me m right now so im going to send her a letter a something sentimental for her to keep while I am away at college My problem is her family doesn t know we are involved yet and her parent are against her dating because of a stalker issue she had a couple month back So i figured with her letter that im sending her i have a separate one addressed to both of her parent introducing myself in case they find my letter to her and another letter addressed to her father to gain his blessing to court his daughter Like i said im being extra cautious about this because of her past with guy So my question is is there anything i should do specifically and do you have any suggestion Anything is appreciated \n",
      "--------------------\n",
      "Getting My Ex Back So my parent found out that me and my girlfriend slept together and wanted u to break up but we compromised on a one month break from all communication and seeing each other The month technically end on the th but we kept breaking the month and talking but it kept making thing worse It got to the point where she old me she did not want to see or talk to me till I wa over her I am very much in love with her and miss her so much and really really more than anything want to get back together But atm she doe not I ve tried and failed to convince her that we should and it ha only pushed her away more I am truly in love with her and I cannot see me having a life without her in it Any advice on step to take to get her back Anything help Thanks guy \n",
      "--------------------\n",
      "FRIENDS WITH BENEFITS WITH SOMEONE WHO IS GETTING DIVORCED Hi brief context I m a year old female who wa kinda new in this city so I resorted to dating apps to be able to have somebody go out and explore the city with me since I don t know any way on how to meet new girl friend or potential boy friend A month after being in that app I met someone year older than me and on our first date he fully disclosed to me that he is not looking for a relationship that he is not in the position to be in a relationship so we decided to be in a friend with benefit situation since I don t think being in a relationship is wise for me to do too month in that exclusive friend with benefit I asked him if he secretly ha kid a wife because of our age difference and only then he told me he in fact do have a wife back in his country but thing are complicated with them at the moment and he is working towards divorcing her it s just that the culture they have is very conservative and their family aren t really supporting his decision on divorcing her At first I wa really conflicted because I ve never been caught up with this kind of situation and mostly my friend with benefit partner in the past were definitely not committed to anybody else but were just emotionally unavailable Eventually I ve decided to be selfish and to enjoy it while it last However a month pas by we started to talk le about his situation with his wife but we still talked about other thing about his goal or his family or what he still want to achieve in life A lot of time I tried ending it with him because he wasn t giving me much attention I would see different girl messaging him and he would tell me that they re just friend or co worker and that those girl actually do have a boyfriend a tinder notification and a lot of thing which he wa able to justify before Now we re trying to be friend with benefit again but exclusively just u and no tinder and no talking to other girl either and he agreed but the dynamic between u are really different now We text le we don t do phone call anymore but we talk a lot in person I would bring up the the girl s name in the past and ask him what happened to them and why haven t they been in touch with him anymore since I don t see any notification in his phone with their name in it unlike before and he would just shrug it off and tell me that those people are buried in the past now and that we shouldn t be talking about them anymore Anyways I have developed feeling for this guy and he is actually a nice and cool person He taught me a lot of thing and I genuinely like him a a person but I fear that I am becoming a doormat that I am just settling or is he just really playing me He actually told me that he purposefully ignore my text and call because he doesn t want to be in a relationship and that I actually deserve better and that is something that he could not give Does this mean I should not pursue it and just protect my heart Does this mean I should just let go My therapist told me to just think of him more of a fuck buddy or a friend with no benefit no in betweens Should I follow it As a man doe this mean I mean nothing to him I am very confused and I hope you reply to me kindly Thank you \n",
      "--------------------\n",
      "Is it even possible for me to have a dating life right now Hi I crashed on my motorcycle a couple of week ago I didn t have a dating life or even a social life outside of work before I crashed but I wa getting ready to try to have one I wa planning on moving out of my parent house this month but now I can t I m a year old male Is there any way I could even try dating I can t really go anywhere because I can t walk or drive because of my knee torn ligament and knee fracture and my left arm is in a cast fractured wrist I know it s probably a stupid question but I m just really lonely right now I wa already super lonely before I crashed but now it s even worse because I sit at home all day doing nothing with nobody to talk to because I have friend and haven t ever had a girlfriend \n",
      "--------------------\n",
      "We ve accidentally become friend with benefit but I want more I ve accidentally fallen into a friend with benefit situation and I hate it I hate it because I genuinely enjoy talking to the guy and really like him so not talking to him and moving on would already be kinda difficult for me I ve already told him I don t want a FWB situation and he said he doesn t want that either but I know it ha become that If I tell him that s what this is he ll deny it Sometimes I feel sad thinking he s getting what he want from me without me getting what I want I e a dating or relationship situation that I can feel more secure in how do I deal with this situation \n",
      "--------------------\n",
      "LDR worthy I F moved to a bigger city after finishing graduate school and secured a job in my field right away about year ago However I didn t realize how lucky I got and that in this particular city the job in my field do not have much room for upward growth So about week ago I started applying to job out of state with great opportunity better salary benefit and clear path for upward growth Just over a month ago I started seeing C M and connected immediately and the feeling have been intense and mutual He s been so incredibly supportive with me taking an opportunity about hour away and ha truly encouraged me to do what s best for me However everything with the job and move is happening quick I have about more week together in the same city He s the total package and I feel like so much of our life were so fate driven that we just happened to cross path It seems like he feel the same about me and ha expressed similar sentiment With such a short time though am I taking it to be more than it truly is He s expressed liking the city that I m moving to but hasn t said anything other than that Knowing that I m leaving and there are a lot of feeling and knowing that if I continued living here we d be seeing each other what do I do Is it best to just break it off early Do I try to push staying in contact visiting each other talking about a long distance relationship \n",
      "--------------------\n",
      "Weird attitude towards gift giving I m observing a weird trend among the men I date They promise me gift but then abandon the subject and just carry on like nothing happened The most recent example come from the man I ve been dating for two month After about a month he told me he had a surprise gift for me and wanted to bring it to me I wa going abroad for a business trip and told him that he can bring it to our meeting after I come back We met he wa very touchy feely insisted on paying the bill but I ve never received any gift Nor did he even mention it He did pretty much the same thing a month later with my birthday gift During one of our conversation I mentioned that my birthday wa getting near He asked about the specific date and asked me what I would like Then he said that I will get my gift We met two day after my birthday for brunch and he brought nothing Nor did he mention anything about what happened to that gift It wa the second gift he promised and never delivered so I brought this issue up with him via text He wrote that he understood that I wa angry but he had other problem It s been a few day ago and he s been silent ever since Any idea why is this happening and what to do about it \n",
      "--------------------\n",
      "I don t have experience and don t know what to do when girl friend flirt with me at the bar club Basically I m a M who s never had a girlfriend Never kissed never had sex and in term of social experience in general we could say I m very ignorant I ve always had lot of social anxiety and never wanted to go out and party make friend etc The last couple of year I have been trying to get out of my comfort zone and I have seen a lot of improvement making lot of friend and having lot of fun talking to people is becoming way easier and ejoyable The thing is despite the fact that I go out with friend without the focus or objective of getting a girlfriend hooking up with someone I have noticed despite my lack of experience that sometimes I have some girl friend or maybe stranger flirting with me and I never know how to escalate Some example \\ At a sport bar with some friend a girl from another table constantly making eye contact and smiling I didn t do shit I can go and talk with her but she s with her friend and I m with mine \\ At a bar house party with some friend drinking and we re a bit tipsy not too drunk and a girl I know that I have been talking to and I feel like she ha some interest in me start getting more flirty than usual and very touchy like grabbing me hugging me etc and I don t know how to escalate I try to replicate a bit what she doe but it feel akward and unnatural and I don t want to do something that might make her uncomfortable \\ Or one day in the club I started dancing with a friend and she started kissing me on the neck that s a far a I ve ever gotten but after that I had no fucking clue about how to continue I wa pretty wasted and I think I kissed her on the neck too but I don t remember properly this doesn t usually happen I don t drink that much and I m usually very aware of what I m doing Because I wa feeling quite bad I ended up leaving early but one of the main reason besides that wa the anxiety of not knowing what to do I felt like she wanted me to do something I mean I m not stupid We stayed together for a while and I think she took me out to the street but I honestly didn t know what to do it wa the same deal a always questioning everything Should I just kiss her just like that Ask her if she want to leave No idea I don t go with the mindset of picking up girl I want to feel more comfortable with just making friend in general first but every time an opportunity arises I feel like I m wasting it because I don t know what to do Any help or advice Or maybe someone who might have shared this problem Thanks \n",
      "--------------------\n",
      "are white teeth attractive on men I am year old and while I have straight teeth and good dental hygiene but they are not a white a you would see on celebrity tv etc They are not yellow but their whiteness is kinda dull and just very slightly grayish if it make sense maybe because of long time coffee consumption Do you think it is worth it if I go for teeth whitening to make them whiter Does it make a guy attractive \n",
      "--------------------\n",
      "How doe a year old guy get a girlfriend I feel embarrassed to be writing this because I should know better by now but I m in a dark place I ve made a lot of progress over the last few year I used to be a stereotypical severely depressed loner the kind of guy the medium warns you about The good news is I ve gone from severely depressed to mildly depressed I ve discovered my passion in life making movie and I ve worked hard for year to make my dream a reality I ve traveled the world had some amazing adventure I ve built up a network of friend who really get me and that s such a wonderful feeling I ve been told plenty of time how funny I am how cute I am how talented how handsome I m not saying this to be narcissistic I m saying this because I feel like I m doing everything right but I wind up in the same boat I feel happiest when I m working or traveling because I m doing something The visceral thrill of writing for hour and getting a scene just right or blasting through a whitewater rapid make me feel alive It s all about forgetting my inner demon My strategy wa to wait until I m more successful to start dating so I d have a much better chance I m so close but without getting into detail my big project ha been delayed by two month That mean two more month of living with who I am My first instinct wa to go on another trip to escape but I have to stay home so I don t jeopardize my project The last few day I ve slid back into depression because I can t scramble ahead The gaping lack of affection in my life blare at me I m no virgin I ve been with girl but not in a way that really count I don t just want sex I don t want one night stand I want a real relationship a girl I can feel close to I realize is a tough age because you re not teenage college age anymore but you can t quite compete with successful adult I blew my chance with girl at college because I wa too depressed and socially incompetent Now I get the rule of the game but I m still an introvert with high functioning Asperger s Bars and party aren t for me Online dating seems like the obvious solution but I get the sense that most people my age are on Tinder and that s the opposite of what I m looking for If I just wanted sex I d cut out the middleman and pay a professional I hope you understand my situation Nothing would make me happier than finding a nice girl to settle down with If I come across a too serious and intense it s because I am but I still have a sense of humor about myself Maybe I could afford to enjoy myself a little more \n",
      "--------------------\n",
      "Was it all a lie He said that he really liked that I reciprocated his warmth and affection He said he loved saying my name and holding my waist That I wa sweet and smart that I made him smile He mentioned my birthday and knew the exact month day and year Does he forget that he shared story of his friend and family to me He said he loved that he could call me because he hate texting So why is he being distant Does he not want to look into my eye again My eye that he kept saying we re so beautiful and unique Does he not want to kiss my lip anymore even though he said they were soft and sexy Does he not want to hold me again Even though he didn t want to let go when we embraced Does he not want to run his finger through my long hair again He said he loved how it felt Was it all a lie Is that cruel that he would lie about all of it Was it all a game Was there no sincerity to his word He hasn t contacted me in day and I feel pathetic and played \n",
      "--------------------\n",
      "I don t know what to do about this guy Me and him met and started talking about month ago Things got busy and then he went away to school so we never ended up seeing each other He wa the one who brought up having feeling for me and at first he made an effort to talk to me everyday He then admitted that he didn t think he could be with me because he s got anxiety and depression and didn t think he could handle a relationship Which I m totally fine with if that wa the real reason and I always end up feeling like I have to watch what I say or I upset him but that s a whole nother story We don t talk near a much anymore sometimes he ll randomly bring up that he like me But then go four or five day without talking to me Idk if I should initiate more but I m really shy and always wait for him to Now I m just sad cause we seem to be drifting apart a bit Idk like I don t want to move on cause I actually want to see if I can make it work But I just don t know Or idk if it s realistic to build a relationship starting long distance \n",
      "--------------------\n",
      "why do men cheat okay cheater why have you cheated in the past i m genuinely curious a to why people cheat while still in a relationship share your story below \n",
      "--------------------\n",
      "F dumped me because I m M I had been fuckin with this girl for a month Also living with her at a friend house for a month so we ve had a lot of time to get to know each other I ve also started to feel a lil something for the first time in a long time for her My first day meeting her she put me in her snapchat story and she said many girl thought I wa very cute but I m so I can t do anything with them I started joking with her saying nahhhh I m just give me their social Anyways she didn t give me their social but for some reason the fact that I wa stuck in her head That s why she wa down with me Last night she wa sitting on my lap and I see her phone go off and her ex say you know M is a kid right She realized I wa and politely told me we had to find a way to quit what we were doing I m not sure what to do I really like her the sex is nice too but what I really want is her Would she still be down to do shit lowkey How do I present that idea to her \n",
      "--------------------\n",
      "Confused So in early I started talking to this girl I know through my cousin She is cute smart funny I like her We got pretty close and I flirted with her a lot and we talked every night But then she got cold suddenly I told her how I felt and then she said she couldn t do a relationship but wanted to remain friend So we went on being friend and all wa fine We hung out joked around etc Recently after a month of low contact she said she missed me and I went and visited her at college which is like minute away Seemed to go well but now she is cold again I treat her strictly a a friend and did so in person too No flirting no clingyness kind of aloof over text snap I Don t push romantically with her so why is she backing away I know the first time around she didn t want that and maybe I wa pushing too hard so I m not flirting or being romantic but it s not working She s still acting like I m in love with her or something I do care about her and like her a more than a friend for sure but I won t let that ruin our friendship because I like her a a person too So I overpower those feeling and bury them I guess I m venting because it hurt when someone you like like this isn t right with you I asked what wa wrong and she said nothing Ah well I m confused Why would she be acting like this suddenly She did this once before when we had a date setup got cold and then came back around But it s been a few week now \n",
      "--------------------\n",
      "Asking out your first crush year after school when both are adult Good idea Anyone tried it Should I We re both now Way back in school we won the poetry prize together with both our entry impressing whomever picked the winner and we both wound up being appointed vice house captain of our house in th year where we gave some speech at assembly together I crushed hard on this girl in school I thought she wa the most beautiful girl I ve ever seen and very few woman have ever compared in my eye but I lacked the confidence to do anything but be embarrassed and secretive about how I felt even though I made it abundantly clear with how much I stared at her in English class turning around looking right back at her wa hardly subtle with the frequency I would do it and how I would be totally feckless when I wa alone with her Biggest regret of my life wa failing to be bold in those moment But at the time I wa not outgoing or confident and I knew all three of her ex over the year many were my friend and I didn t want to make thing weird admitting my feeling were the same a them a while they dated her I distanced myself from them all during those time Couldn t stand to be around them like that I walked home once with her and one of my friend while they dated It wa incredibly awkward and even I knew at the time they weren t happy together it wa incredibly uncomfortable The only friend I confided in at the time told me they were unhappy together all throughout the time they dated cry and arguing with one another and when they broke up they became much happier people I won t deny this made me very happy my friend encouraged me to make a move after that breakup happened but I wa shit scared to do anything and did nothing What I want to know is how should I go about trying to reconnect with her and ask her for a date if she wa open to such an idea NOt only do I want to shoot my shot but I also want to stop being tired and hung up on memory of the past wishing I d acted when I hadn t We re both now single she seems to be in a good place and open to dating someone new but I don t really know her too well any more Haven t spoken in year Is it really a simple a asking her if she want to meet up for coffee or a drink sometime out of the blue via facebook or something or should I try running into her in person and arranging meeting up from there again Or is this a bad idea at heart and I should just try burying this hatchet and accept I fucked it way back then in school because I feel like there is still hope for me yet here And yet I am so fucking afraid of doing anything this is the original crush we ve all experienced the scary one I ve never acted on and I have a chance here to actually learn or gain something from the opportunity whatever the outcome I need some advice here My parent and sibling would want detail to get advice and I ve never asked them for advice on this stuff anyway I ve never gotten the sense they understand this subject or me well anyway and I m not sure how helpful their advice would be Couple of friend have said just to act on it anyway and see what happens but I need further opinion But I also feel I have to make a move and do something or I ll regret never acting on my feeling even once with this girl because it s followed me for year even though we ve spent many apart I still kept tab couldn t help it I m more than aware she could say no and I think I d feel much lighter and free to move on with that answer a many others I ve seen in this sub have done the same More than aware she could say yes and I d be the happiest man on the planet for that moment More than aware she could say yes we date and I realise this infatuation wa a bit fantastical and we don t click or match well together a a couple Again this is possible but probably a good thing for moving forward and developing a a person Or it could be the best decision I ve ever made in my life if she doe say yes and we click I just don t know And that s shit scary Is it worth putting it on the line to find out I asked out a coworker a short while ago after asking advice here and she said yes I felt so empowered and unafraid afterwards wondering why I felt so scared in the first place Things didn t work out But this girl feel different I m afraid she will say no I m afraid she will say yes and I wa wrong What do I do \n",
      "--------------------\n",
      "Am I wrong for making my love interest feel like he s walking on eggshell I m falling for this guy We re not in a committed relationship yet We re both and have had LTRs in the past We have a deep intense connection physically emotionally sexually in the short time we ve known each other I told him that I have some reservation and our last argument gave u a setback He said something about u being incompatible over a miscommunication that we had and his overreaction is lingering in my mind b c I m gravitating towards thinking what if he give up so easily in a committed relationship He get mad easily him saying we re incompatible is his reaction to that anger He wa abused in his childhood and LTR and he recognizes that he ha trust anxiety issue He s been in therapy for yr He is EXTREMELY self aware intelligent I love that about him so much He recognizes when he s angry and he s told me that It s okay for me to feel angry but I do triggered more than I should But more importantly my reaction aren t always healthy and I need a healthier outlet Last week I felt like he wa pressuring me into deciding if we re going to enter a committed relationship We then had this convo Him I apologize for putting that kind of pressure on you It s not right A relationship should come naturally If you decid to date me and wa pressured I would reject that Waiting is hard but I m also happy with waiting b c of the possibility that I may spend my life with you and for the opportunity to practice patience empathy I also recognize that I have lingering issue that I thought I had resolved through therapy and now I ve become so close to you I feel vulnerable and a desire to feel safe It might even be unfair for you to enter a relationship w me until I give you reassurance that I m improve upon these issue Me I feel like I m responsible for your agonizing anxiety over the situation That s not the kind of person I want to be in anyone s life Him I love that you care and are concerned about me but in this situation the responsibility is on me to seek healthier outlet for my feeling and not on you I cannot put pressure on you a I ve said The damage is already done but I m sorry Me I feel like now I m making you walk on eggshell b c you are now inclined to be le vocal Him In certain situation I do have to watch what I say I know I tend to be pretty blunt but me being silent is better than me putting unnecessary pressure on you It would be a disservice to u both if you were pressured into dating me I still feel like I m making him walk on eggshell and he can t freely express his feeling w me because he fear that it might put pressure on me Am I wrong here I don t want to do that to him I genuinely care for him and if I m being an asshole I might just let him go P S I am NOT stringing him along I am legitimately falling for him \n",
      "--------------------\n",
      "I m depressed i always lose the chance of having a relationship i guess I m becoming someone bad i really need help I m year old I grew up in a dysfunctional overprotective and toxic family in spite of that they love me and always want the best for me that s why I m somewhat introverted I m very proud and I have antisocial trait apathic insensitive That s a bit about me excluding the good thing today October I realized that I hit bottom and I wa wrong all my life \\ THIS IS GONNA BE A LONG AND IMMATURE STORY x B In this new semester of study month ago i started talking with her because we were friend for about a year and because we are in the same class I started to like her because she saw me renewed i talked to many girl had good grade and i helped her with work month ago we were invited to a small party we went and she wa very close to me thanks to a party challenge we gave each other a quick kiss After that night we started talking in a different way the worst happened week later there wa another party and I didnt go she went and kissed an unknown guy and a girl WITHOUT ASK because of the same sort of challenge at am she texted me that i wa an hypocrate for not going to that party I got mad and a girl who is very sexually interested in me gave me a blowjob while she wa looking I did it for revenge and because I thought she didn t want to be with me The thing just got worse and we both ignore each other for several day one day i swallowed my pride and talk to her and tell her that I wa sorry that I liked her a lot and that I wanted to try a relationship with her the only thing that she said wa that if i do it for revenge and i said yes she ignored me for day and at that time a mutual friend told me that she wa not going to be with me because Im resentful After that we talked again after week and she kind of gave me a second chance but I just couldn t go on after what I heard she obviously doesn t know that I know that x B i understand that i did something horrible to her but she started everything with his immature and childish attitude x B i really want to be with her i rarely want to be with someone in a relationship she is special what should i do \n",
      "--------------------\n",
      "How to break a guy So there s this guy M F I ve been talking to for month almost I live in Southern California and he also originally life here but he s going to school In New York It s his last year though so I m trying to crack the dude His whole life pretty much revolves around sport and working out and his dog I mean the dude last second when he come home so I m not too worried about him hooking up with anyone else idk he s living his life out there so I try to not worry about it Whenever he come home he s all about me and we hook up at night don t really go out much but that s bc I ve allowed u to be homebody s and not saying anything bc I m almost intimidated by him but I m not at the same time When he go back to school though he kinda ghost me We will snapchat back and forth maybe once or twice every other week but one of u doesn t reply It s SO CONFUSING but I ve gotten used to it being that way ANYWAYS I ve come up with a few idea on how to ask him out or simply start off with a hey let s go get Taco Bell or something and i plan on doing that when he come back home for thanksgiving I m going to my friend wedding in Minnesota In June of next year and i want to ask him to be my plus one I m just so nervous from past relationship trauma complete fucked up shit It make me overthink and get paranoid w the dude I m talking about now The thing is though when we re together he s the sweetest guy He s the best and we get along well and are super comfortable Long story short can someone give me some pointer or tip on this How can I break this man lol \n",
      "--------------------\n",
      "Coming off too hot what s next Background four year ago I wa at a party with a friend of mine with some of his girl friend It wa really cozy and great fun and I wa fortunate enough to get a chance to talk to this really cool smart and witty girl We spent the rest of the night just talking the two of u ignoring the ongoing party Now the day is over and we part way and nothing could come of it really a she wa in a relationship and I wa moving to Germany for school That s fine and I thought it wa a perfect example of a fellow person you just click with Never talked to her again Fast forward four year and I saw her updating her Facebook picture so I asked my friend out of curiosity if he knew whether she wa single or not to which he said yes she wa single Now I didn t really think too much about it but the very next day I bump into her on the bus She didn t recognize me and I wasn t too sure if it wa her or not a the bus wa quite crowded I didn t say hi but I passed her a message on Face and asked if she wa on that very same bus Few hour later she confirmed and wa surprised to hear from me We instantly hit it off just a we did four year ago and we started casually talking Things were going great from what I could tell with both being flirtatious sending each other video of her life at uni picture of her self joke meme deeper question etc pretty well rounded Now over the last two month I ve been on a high at time a engaging with her is great fun and it s a great addition to my life I m looking forward to hearing from her and flirt with her I m well aware of her busy schedule with school outside of where we hail from trying to get friend in a different country surviving basically And I do know she rarely us her phone or social medias a she blatantly told me and excused herself for not replying instantly at time My friend confirms this a he a great friend of hers and he know we ve been engaging with each other That s fine My problem is this I believe I ve came off too fast and smothered her a bit a I feel the conversation is usually always me initating and more abrupt and short I m in this peculiar situation that I give everything for stuff that interest me her included which I know is a bad thing She hasn t said I ve smothered her outright and contrary she s confirmed I should just continue doing the same She did however confirm that the whole situation is rather hard for her at time given the circumstance she talk more with me than any of her friend e g After thinking more and fearing that I m back to my old self of cramming her with text I ve tried to slow down a bit and let her enjoy uni life But at the same time the response are more platonic and sporadic now I feel almost like it dying down It take a whole while longer to hear from her and she doesn t really initiate her self However she always challenge and asks indepth once we do talk and it s always a longer texting session It s therefor a mixed bag which confuses me She will be back in roughly month so my idea wa to don t pester her every single day but check up on her once in a while in an effort to build that attraction better so by the time she s back should be easier for her to accept a date Question is how should I proceed and how do I find back to the groove I feel I should have the answer myself but I m keen on other perspective on whether I came off too strong is true and what I could do about it now that I presumably have damaged the courting period a bit Ideas \n",
      "--------------------\n",
      "I feel like the guy I m talking to isn t interested in me anymore how should I proceed I ve been talking to a guy and at first he wa a lot more talkative complimented me a lot and even wanted to talk on the phone we did it once hour conversation A week ago we met to watch a movie but instead we spent hour talking He never made a move so I thought he either moved slow or wa friendzoning me He is a busy guy I know that because he showed me his schedule before and he study and work all afternoon so I m aware sometimes he is just too busy to talk but I swear it just feel different He doesn t make long conversation anymore doesn t compliment me I m not looking to get an inflated ego but it s something that ha changed take longer to answer I just think he is replying out of politeness cause he used to make the talk a lot more fun For example last night he wa more talkative than the other day which made me think he maybe had a hard week but then we talked about work then food even told me I needed to show him food from where I m from then randomly about some pancake I made that gave me a stomach ache and after that he stopped replying at am Today he just replied idk I love pancake The old him would ve said something else but I may be overthinking My anxiety doesn t help I just felt like it wa forced I honestly didn t sense any discomfort the day we met but maybe he wasn t feeling it He even said we would watch the movie next time but by the way he is acting I don t think there will be another time or maybe I m just exaggerating cause I overthink everything I just asked him if he wanted to meet again or no Should I tell him that I feel he ha friendzoned me and ask for some clearance if so how or just stop talking to him I don t want to come off a intense but I just want to move on in case he ha done the same \n",
      "--------------------\n",
      "Crush Drunkenly Confessed Now What Hey so i F need some advice I ve known my guy best friend FAM Fine Ass Man M for almost year and something happened that through me for a tail spin About day ago my friend from out of town came to hang and we hung out with FAM and we were hanging and drinking My friend passed out on the bed cause she wa feeling nauseous so FAM and I went to go play beer pong in the living room We re playing drinking get a lil flirty like we usually do when he get quiet all of a sudden I ask what s up and he go into this tipsy spiel about how much he respect me a a person and that I m a confident woman etc etc and at the end of it he say I think I m starting to see you in another light and I really like you He asked me how I feel and after being godsmacked I say I feel the same and we start getting a little more flirty and he say how if my friend wasn t passed out on the bed he would take me right then and there So we cuddle and hang out until I m feeling kinda tired so I head home The day after FAM say he wa drunk but he meant it and in some moment he really like me more than a friend and some he doesn t tf but ever since he confessed he s been so much more affectionate and attentive and idk i m really confused on how to move forward or talk with him about it \n",
      "--------------------\n",
      "Should I [ F] give my ex [ M] who wasn t ready another chance I first met this guy two year ago like a month after he d gotten out of an year relationship and had been cheated on We started dating not knowing how thing would evolve and it wa incredible We d never met anyone like each other We were best friend with chemistry and understood each other way we ve never felt before with previous partner It just worked But after a few month it wa abundantly clear that he wasn t ready for anything serious and so I ended thing I wa looking for a relationship and though it wa obvious that the connection wa there I told him he needed to heal from the previous relationship learn how to be on his own and then to come find me when he wa ready I wanted to be a partner to him but he wasn t ready to be a partner to anyone he wa depressed needed to work on his mental health and unsure if he wanted to move back home whether to stay in his career or not We both agreed it wa for the best The break up doesn t really stick We text a bit Three month in he tell me he miss me and want to be together we immediately start dating briefly again but it s still very clear he s not ready for a relationship didn t work on his personal issue though he is trying Ultimately we break up again and I am angry that he came back put me through this again when I gave him the chance to work on himself I tell him for his own sake he should try therapy and best of luck with his life It hurt but I moved forward have been dating and living a good life Well about month pas this time He doesn t contact during this time per my request and now we ve recently reconnected He apologized profusely for what he ha put me through in the past He acknowledges that he shouldn t have come back last time that he thought he wa ready but he wasn t He hadn t done anything in those three month to heal or figure out his life This time in the past month he ha been going to therapy He ha been figure out a plan for himself and getting back into a better headspace He ha given himself time to be on his own He doesn t expect another chance and he doesn t want to rush in to thing like last time He want to take thing slow build back my trust and build a relationship from there He never want to hurt me again and is so sorry for what happened previously But the feeling are still there So now I m faced with the decision of whether or not to give this guy another chance I ll be honest I love him I can still see a future with him and I WANT to believe thing will work this time He is my favorite person in the world and the full package for me But I don t want to be stupid and get my heartbroken again Like I ve said I ve dated around since we ve broken up met some nice guy but no one I connected to a deeply or felt like the best version of myself like I do around him I m not going to rush in to thing or commit to him right away But I m faced with this dilemma wa it truly a case of bad timing or if we were so so compatible wouldn t we have worked the first time around tldr ex say he is finally ready and want another chance should I give it to him \n",
      "--------------------\n",
      "How do you tell what s keeping you single It s AM so maybe I ll leave this to therapy but I m back on it with my self loathing bullshit though thankfully not to the worse extreme I found out I am now the only single and the biggest loser in all my friend group I m working on the loser aspect I go to therapy I am driving again and released from concussion rest so I m in the gym again I m in college and trying to save my grade and find a different major if I do fail this semester I m writing or trying to and trying to find time to make furniture to sell But the single aspect that kill me I ve been trying to build a better support network for the last three year when I wa told normal people have at least one good friend So I suck at people skill in general I don t have any friend I can ask about this a they either haven t known me long enough or have complicated background with one of my closest friend is my ex ffs I don t want to be the dude that call the girl after she s flaunting a new boyfriend around and be like Why Lisa Why I want to know how to improve myself why can t I get a girlfriend or keep one My ex said she wanted to break up just to work on herself and we ended up I want to say dating but I think I wa just a human body pillow I hate myself for letting myself fall for it She never once will tell me what I did wrong all I can think is maybe our view on religion didn t work out and my usual insecurity over my eye disease or lack of any income or stable future My other ex said basically the same thing it wa her not me but that wa two year ago Ya I don t date often and year go by in the mean time I think the eye disease thing started here a it wa two week after I told her it s not just colorblindness and could turn into a disability So How do I find my toxic trait what s keeping me from getting friend and a girlfriend or am I just not social enough to run into girl Am I too ugly too undesirable I rarely go out I go to club and class and that s about it That s all I can blame except I ve been on bumble for month maybe a year now and gotten five match none in my hometown \n",
      "--------------------\n",
      "I don t really know where else to put this but I m just looking for some advice So this whole situation ha happened over the course of about week I met this girl and we just completely hit it off with one another and we got each other s number within a week and she even invited me to a school dance Everything wa going swimmingly but one day after school she came out a Bi sexual to me She proceeded to tell me that the problem wa that he liked her friend who is a girl and she also like me at the same time So I told her that I would give her some space and some time to decide on her own who she wanted to be with In the end she chose her friend So naturally I thought we would become friend and thats about it She also said she wa no longer Bi sexual anymore and wa going full gay so no biggie right Nope Come to find out she STILL like me she told me herself but she s gay now I m really confused and if someone could help that would be great Edit her friend had already said no to being in a relationship with her last year her friend is gay a well \n",
      "--------------------\n",
      "Am I overreacting of am I justified in being upset About two week ago I told my friend we ve known each other for year I liked her and asked her out She wound up saying yes but two day before our date she wound up cancelling The night our date wa supposed to be she called me and asked if I wanted to grab dinner which we did and had a good time Afterwards she asked me what I wa doing that night and asked if I wanted to go out with her and her friend for one of their birthday I told her I wa probably going to head home because I had nowhere to stay that night but she told me to stay at her house I wound up going out with them and then the whole night I proceeded to have to watch her climb all over one of her friend I wound up staying away from them and hanging out with the others for most of the night Later that night everyone went back to her house for a bit and after an hour or so it wa just her and her one friend left or so I thought So i went into the living room to watch TV until she left but wound up falling asleep When I woke up in the morning I woke up to her and the friend she wa all over in bed together I wa really upset and just wound up leaving and going home even though they wanted to grab breakfast She texted me twice later that day telling me to drive safe and another asking if I got home safely I didn t answer the first and just responded to the second with Yes It feel like a punch to the gut and kind of a heartless thing to do but at the same time I dont know if I m overreacting \n",
      "--------------------\n",
      "Paying for first date I feel like it s only proper for me to offer to pay my share but I find it a big turn off If the guy let s me I m generous to a fault when I m in a relationship but I do like the man to pay for dinner until we are in said relationship am I wrong I ve never dated a guy who hasn t insisted on paying I feel like he wa really into me so bummed he let me pay \n",
      "--------------------\n",
      "Interested in a damaged woman I ve met a woman that I have strong feeling for and in some way it ha been reciprocated We text all day we ve made out a bunch slept together she sends me nude and she say I m very attractive and interesting But she is also super messed up She self harm ha been sexually assaulted and suffers from cptsd She s prone to period of depression where she doesn t want to see me She doesn t want a boyfriend because she get claustrophobic She doesn t like it when I say sweet thing to her and think it cheesy Her capacity for romance is so diminished by past trauma that she can only see thing through the eye of a cynic Sex is just sex She s given up on love It s all very transactional Gaining her trust ha been very difficult I m navigating blind here because she doesn t communicate her feeling very well I want a relationship with this woman even if it s not traditional but I m struggling to figure out what she want from me What can I do to make this work Is it even possible How can I get her to open up to me \n",
      "--------------------\n",
      "I got called a rapist I wa at this party once and I saw this girl that I thought looked cute so I did what I always do and initiate a conversation I went up to her smiled and introduced myself I told her that I thought she wa cute and I d like to get to know her she asked why And then I just said there s something about you that ha drawn me to talk to you her friend she wa at the party with then came up after noticing this go down and then I said hey who s your friend I turned to her friend and said I just wanted to talk to your friend and the ln she went totally off the rail and said he look like a rapist I got pretty pissed off at that point and upset that someone could just say something like that without feeling and empathy I ve done nothing to deserve that kind of treatment I then said to her friend why the hell would you say that to me You re fucking crazy she got a disgusted look on her face and dragged her friend away I don t know why woman treat me like this I don t consider myself ugly I take pretty good care of my hygeiene wear good clothes have shit going on in my life ect Not only that woman run away when they see me I don t know if it s because it wa because of me or what but I wa walking down the hallway in college and this girl in front of me walking all of the sudden just started sprinting down the hallway out the door Another time this happened wa tonight I went outside by my apartment balcony and looked off into the night sky of my campus community saw these two girl who looked like they were dressed up to go to a party and when they glanced at me they started running away I don t like being treated like I m some monster I m a good person and I have no intention to hurt anyone \n",
      "--------------------\n",
      "Breaking up due to emotionally unavailability need help breaking down his wall M F My bf M and I F have been together for just over year We ve been long distance for a part of that and have been happy and healthy relationship wise until the last few month My friend would describe him a the quiet and shy type but he isn t when we re alone A few behaviour started to pop up and all were connected to his emotional unavailability He look in genuine pain when I ask him to open up he literally can t give me a compliment say they are all in his head and sound cheesy It s hard to know that he s trying but still failing to show me affection It s a warped sense of rejection and that he ha to try to tell me I look good When I get excited or optimistic he s just neutral and not excited for me especially career wise I fear he might be depressed and we talked about it and say he feel like a robot on auto pilot neutral is his default and can t break free I don t know how to get him to open up and break down his wall properly any advice please \n",
      "--------------------\n",
      "Physical connection is great not sure about emotional connection I ve been seeing this guy for about a month We have a crazy amount of interest hobby general lifestyle thing in common We can lay in bed and kiss and cuddle and talk for hour we haven t even had sex yet though Although I ve noticed that when we re out in public and can t be affectionate a much it s almost awkward I don t know if we re just both a little nervous but it feel like sometimes we run out of thing to talk about or have some weird awkward moment It feel exhausting being with him at time but like I said we could lay in bed all day and never feel bored Is the way I feel normal It make me wonder if we actually are that compatible or if I even like him \n",
      "--------------------\n",
      "Reluctant about formally asking someone out I couldn t think of a better title sorry I am M and the girl in question is F with a year and a month or two age gap I will refer to her a Ashley Throwaway account for obvious reason My mind is also kind of scattered right now because I don t know what to do The timeframe is also kind of a blur except for a few day because I wasn t really paying attention From the start me having a typical high school crush on her seemed wrong because I met her at work awhile ago when she first started at our location I always have known that workplace relationship can lead to negative consequence and I am just starting to get some steam going at my local fast food store they re training me for IT work Ashley ha always been outgoing which wa also kind of threw me off because I couldn t tell if she actually liked me or wa just being nice like she always wa Either way we exchanged info and have been talking outside work for awhile now She s actually starting to really open up to me when it come to some of the issue she s been dealing with lately which is why now I am questioning my moral on whether or not to formally ask her out If I had to put a timeframe on stuff I would say we met in late September and started talking outside work around the first week or so of October So shortly after we start talking I invite her to my apartment really my dad s but he work night so it s usually free right after school until like midnight to binge some episode of a TV show we re both interested in She said she d love to but she ha her college midterm coming up So I suggested a week after Mon Oct and she said sure She flaked about an hour before she said she d come over because she wa sick She seemed very apologetic about it so I more or le shrugged it off We then talked throughout that week which is when she really started opening up with me in regard to her darker side So fast forward to like Thursday Friday Oct and she drop a huge batch of truth which I promised not so share regarding her past and stuff She wa in a pretty shitty mood so I told her that I personally a well a some of our coworkers care about her well being which she wa thankful to hear Fast forward yet again to yesterday Sun Oct and she asked for some help with an assignment for her Web Development class I offer to have her over to my apartment again I know it wa short notice and wa expecting her to say no and she said she wa feeling pretty sick She also said she wa asked to come into work for a couple hour I figured she wouldn t because she said she wa sick but she did I checked in with her after her short shift and she said it wa fine So overnight I texted her and said something along the line of I understand if this seems overly pushy but would you rather cancel u hanging out sometime or would you like to pick a day and earlier today she got back to me saying she ha been holding of with hanging out in general including her own friend because of some issue she s been dealing with I mean I understand that last part because my last major ex had some similar thing going on One of the key difference though is that my previous ex wa the one to admit her feeling to me but this time I would like to admit my feeling to her TL DR we met at our workplace and seemed to hit it off pretty well but she hasn t been wanting to hang out with many people at all because of personal issue x B With all of that being said we have been able to reliably make small talk along the line of how wa your day with somewhat frequent long and involved sometimes personal conversation too I guess I am just too inexperienced with dating to tell if this is going anywhere or not so any advice is appreciated x B \\ \\ EDIT\\ \\ I feel like I should also say that I wound up basically re learning HTML I had a little previous experience to more or le impress her and I figured it would be a good way to actually tell her how I felt about her \n",
      "--------------------\n",
      "Love is more rational than emotional So my ex M love by rational than emotional and recently broke up with me after day just because i F didn t make him improve himself We had a talk yesterday and i just said that day were not enough for me to do what i can do I am the kind of person that think more than do so i have to think very clearly before i do something and he just denied all of that He prefer initiative and he will not tell or suggest me to do anything i just have to think and do anything that i feel that is good for the relationship by myself Should i continue to talk to him or just give up \n",
      "--------------------\n",
      "We never defined the relationship I still have feeling for him but I m afraid he s moved on I M have been hanging out with this guy let s call him Randy M for about one year We met on an app and chatted for about week before I finally met him in person Due to the distance between u about an hour drive we only saw each other a few time during the first two month However I could tell there wa a connection between u We continued hanging out when we could and we eventually started seeing each other more often During the spring and early summer thing were going really well and I kind of assumed we were seeing each other even though we never had that conversation I really wanted to define the relationship and have that talk but I wa afraid I would scare him off I wa happy with the way thing were I knew that labeling our relationship wouldn t really change much in term of how often we see each other and talk and I wa pretty confident he wasn t trying to see other people neither wa I Also I wa naively assuming he would initiate the talk because he s older and more experienced For all of these reason I put off having the talk A few month ago I noticed little thing begin to change He became a little le affectionate we wouldn t hang out a much and when we would go out for dinner or drink the conversation did not flow a easily a before One night after dropping me off at home he texted me and asked if we had a status I instantly became tense and anxious because I wa expecting the worst and because this seemingly came out of nowhere I told him we haven t talked about it but I would love to have that conversation He texted me back and said he thought we were in the friend category I immediately asked if we could talk instead of text so I called him We ended up having an emotional conversation about a lot of stuff going on in his life at the moment friend family his job and we didn t really talk about our status During the next few week after that conversation thing were relatively normal We still texted and hung out the same amount a before and the topic didn t come up I wanted to bring it up and continue the conversation but there wasn t a good time in my opinion So I put it off To back track a little a few month after we started hanging out Randy went to Europe for vacation He ended up meeting a guy there on one of the first day let s call him Anthony and apparently they instantly hit it off Anthony hung out with Randy and his friend on a few of his excursion and when it wa time to leave they decided to keep in touch During the time when thing were going really well with me and Randy I would occasionally see text pop up from Anthony but I figured he wa an old friend or something I never knew how they met Fast forward to my emotional conversation with Randy one of the thing he mentioned wa that his friend Anthony wa coming to visit soon and that he really liked him When I heard that I had a mini panic attack Why did he just tell me he liked someone I thought he liked me We didn t spend much time on that topic but I remembered he said it and that stuck with me for the next few week Fast forward to last month Anthony come to visit Leading up to his visit a I mentioned before thing were relatively normal between me and Randy I wanted to have the talk but I didn t see a good opportunity to have it When Anthony arrived I gave Randy his space to enjoy the visit I didn t text him at all during the week long visit and he never texted me However Randy posted most of the visit on social medium so I got to see exactly what they were doing Every new post and picture that I saw of the two of them broke my heart a little bit more During the year or so that Randy and I were together he never posted about u on social medium and he didn t have many picture of u together saved on his phone Now Anthony come to visit and he post selfies and picture of every place they go I wa extremely jealous and pretty miserable the whole week When Anthony finally left Randy texted me and we began to communicate a normal I knew that I needed to talk to him about how I felt so I went over to his house one night to watch a movie Before the movie we decided to order food so he opened an app on his phone put in his order and then handed me the phone to place my order He left the room to use the bathroom and I had a very strong urge to snoop through his picture to see what I could find so I did The reason I did so wa because I guess I wanted to confirm what I already thought but didn t want to admit that Randy see u a friend and nothing more Well I guess I got what I asked for There were picture video of them doing thing they didn t post about selfies of them kissing and even some x rated video My heart literally sank into my stomach and I started to have a panic attack Randy came back and saw that I wasn t myself and that s when I finally told him we need to talk I asked him what he thought about u and the past year He said that there were time when he wanted to take our relationship to the next level and he wa looking for sign from me that indicated I wanted to do the same I absolutely wanted to take thing to the next level but a I said above I wa afraid I would scare him off and I didn t want to mess up what we had going Therefore he interpreted my action a not wanting to take the next step and just stay where we were So I guess he assumed I wanted to stay more a friend which is not at all what I wanted However since neither of u said anything to one another over the next few month we both kept assuming what the relationship wa I assumed we were exclusive but not exactly boyfriend and he assumed we were nothing more than friend or FWB Now there is someone else in the picture that Randy clearly ha feeling for I tried to ask Randy about him and Anthony and what he considered them to be and he said that he is unsure He s unsure whether to pursue a relationship or just let it go because of the distance I left the conversation in an OK headspace but when I got home I completely broke down I ve been an anxious miserable wreck for the past week thinking about how I missed my chance with Randy How we both had feeling for each other and all it took wa for one of u to say something Or would that have even mattered because he had been texting Anthony the whole time we were together I feel extremely guilty for snooping through Randy s phone and I can t get the picture video out of my head Does Randy still have feeling for me He did at one point and we ve remained friend this whole time Is he going to move to Europe to try and make it work with Anthony Or are they not going to try and make it work I asked Randy if we can continue our conversation this weekend and he agreed I guess I m looking for advice about the situation in general and potential question I can ask Randy So far this is what I have I still really like you and have feeling for you Do you still have feeling for me Or is the door shut on u and you re trying to make the relationship with Anthony work I feel very guilty about snooping through his phone and I m wondering if I should confess Should I ask about Anthony Or will the detail of their relationship just make me feel worse TL DR I ve been hanging out with a guy for one year We never defined the relationship I thought we were more than friend he thought we were just friend Now he ha feeling for someone else but I still have feeling for him What should I do \n",
      "--------------------\n",
      "What would you do I am attracted to a girl I started to work with We were doing a job for the past week and I felt we somewhat clicked She started out saying she wa kind of seeing a guy As the week went on that turned into boyfriend At the end of the week she wa kind of concerned about the relationship a the guy is year younger than her I m year older than her I think this is a rebound a she did come out of another relationship a little while ago I won t be working with her next week and I am not sure when I ll see her again I have her number but that is of course for work purpose What would you do \n",
      "--------------------\n"
     ]
    }
   ],
   "source": [
    "# Examine incorrectly classified posts\n",
    "df_pred = pd.DataFrame({\n",
    "    'X_test': X_test_lemma,\n",
    "    'y_test': y_test_lemma,\n",
    "    'y_pred': y_pred\n",
    "})\n",
    "\n",
    "# Posts incorrectly predicted to be in dating_advice\n",
    "for i in df_pred[(df_pred['y_test'] - df_pred['y_pred']) > 0]['X_test']:\n",
    "    print(i)\n",
    "    print('-'*20)"
   ]
  },
  {
   "cell_type": "code",
   "execution_count": 87,
   "metadata": {
    "ExecuteTime": {
     "end_time": "2019-10-24T15:40:17.037442Z",
     "start_time": "2019-10-24T15:40:17.009596Z"
    },
    "scrolled": true
   },
   "outputs": [
    {
     "name": "stdout",
     "output_type": "stream",
     "text": [
      "When are people called bf and gf and not just dating Just wondering if you guy think that you have to be asked or ask somebody to be their bf gf or if just after a while you guy start to call it that Thoughts \n",
      "--------------------\n",
      "Break up M F the girl ive been seeing for about month just texted me she s ending thing with me cause she thought i wa which it showed on my dating app but she think i lied to her but i tried explaining that i completely forgot that wa the age there but she say it over what do i do am really anxious cause we connected so well \n",
      "--------------------\n",
      "How do I ask her if the upcomming hang ouf still a thing is I had the gut to ask her to hang out the second time since she ditched the first time wanred to watch Joker with her but she didn t wanna watch the movie So we planned to meet up on comming sunday but today I heard her talking to friend and planning on going to something like a shopping center on sunday What is a good question to ask if the thing on sunday still is a thing \n",
      "--------------------\n",
      "I have any problem with girl They dont look at me a at boy only a friend How to change this M I want to heard some real advice from people who stepped over this problem Im really scared because I had my heart broken several time It stop me every time I see pretty girl Really waiting for your advice \n",
      "--------------------\n",
      "I met a guy who wa here for a work trip and I m really into him but Idk what I should do So I met this guy who wa here for a work trip I work at a bar and he wa there once for a drink But we didn t talk I just thought he wa cute at that time and because I m working I don t flirt or get involve with the customer The next day I went to a bar that I frequent myself during my off day and I saw him there he doesn t rmb me even tho I served him the day before at my bar we kept looking at each other and eventually we started talking We had a great night we danced drank and I even found out he got a daughter but he s not married So anyways he wa only here in my country for day for a work trip he life in LA but currently in Philippines for a mths long work After that he ll be back in LA to work and study part time for his degree He got my number and texted me that he had a great time and if I wa ever gonna be in Philippines I should hit him up Now I m into him and I really want to get to know him more But I m not sure if he will want to because we are clearly not in the same country he might not even come back here again and we just met But I felt like it would be such a waste to let a guy like him just walk out of my life without u even trying to know each other better and see if there s any interest possibility for something more See I have been on date since I wa single But no one interest me a much a he do He wa the perfect one if I could put it that way What should I do now Should I text him But if I do what do I text him about I really need help if anyone ha had been in this situation before please guide me \n",
      "--------------------\n",
      "Uncomfortable talking about kid Currently in a long distance relationship with a girl from Brazil Conversations have been ok but I know her favourite subject are religion and kid We ve been talking for two month now I can tolerate religion depending on how she present it but I feel very uncomfortable when she brings up kid or how she enjoys spending time with them Sends me picture and her favourite moment On weekend she work at a church that look after kid and I assume she baby sits quite a bit too I have no clue on what to say at time so I go with the flow I say thing that dont interest me but I do it to keep the conversation going \n",
      "--------------------\n",
      "How can I reject a girl in the most harmless way I know this girl for month but we have never really talked to each other She asked me for a date and then I realized that she s totally out of my type we have way too different range of interest so I need your advice what I need to do or tell to make her understand that I m not interested in the relationship \n",
      "--------------------\n",
      "I [ M] need help with flirting with my crush [ F] So I have a crush on this girl I sometimes have class with We ve known each other for a while but in the last couple of month we ve talked and flirted at least I hope that s what you would call it more than ever It s really exciting Often we sit next to each other and when we talk she touch me a lot on the arm and when I tease her just a bit she sometimes squeeze my arm and hit me I also touch her arm to show my interest Also when I lean in to see something on her computer she doesn t pull away when we touch each other What would the next step in touching be Should I get more touchy feely and if so how should I go about it Thanks in advance \n",
      "--------------------\n",
      "Myself m found a new friend group and with a new crush f but am unsure how to proceed To set up the scenario my friend and I go to a university in my hometown and a such I know a lot of people there Still I wa a very introverted person graduated high school a year early and only kept in contact with a couple close friend of year Through my entire first year of university I barely talked to anyone and sparsely went to club activates overall just felt really poorly socially even worse than highschool This year one of my close friend started attending my University and met a few girl from his class that he started talking to regularly which in turn led to me hanging out with them semi regularly a well I ve felt much better these past couple month and find myself actually driven to hang out with them instead of staying cooped up at home Issue is I ve found that I grew a crush on one of the girl and have no idea what to do We semi cuddled together when watching TV with the group and I really enjoy her company specifically but am worried that trying to pursue a relationship could result in a total disaster with the entire group not wanting to interact with me anymore and me going back to just going to school and then home everyday I m in completely uncharted territory for myself and have no idea what I should do so any advice is appreciated TL DR After being quite the loner found a new group of friend one of whom I have a crush on How do I go about expressing interest or do I just stay friend \n",
      "--------------------\n",
      "How to cope with the fact that all my relationship will one day end As I move on through life experiencing every moment I am thankful for all that ha happened I consider myself to be a loner introvert but I m doing my best to live the life I want When it come to relationship whether it be platonic or romantic I struggle in keeping them I m in college at the moment and with the stress of adult life I m trying my best to make a solid foundation with those I am close to There is a cloud of doubt looming over me claiming that once I get my degree I will never see these people again I am the most social I have ever been in my life I ve been invited to party gone out on amazing date with woman and have learned a lot about life through others I fear that once I graduate it will all end I ve learned to deal with goodbye but there s a piece of me that still yearns for a long term relationship My question is how do I keep people engaged in me I ve never had a close childhood friend or a long term romantic partner month Now that I have a solid social group to turn to and a new romantic partner I would like to keep it going a long a possible Any advice on how to keep a relationship going would be appreciated \n",
      "--------------------\n",
      "I M and my brother M babysit for cash He wa suppose to babysit on Halloween so I can on a night out with F He s thrown me under the bus and now I have to do it This isn t a post where I m going to cry bitch and moan I honestly like babysitting It s a really chill job to have and I ve built up a good name for myself in my neighbourhood My brother is known mainly through me I never have a trouble getting a job However I have wanted to go out with this girl on Halloween for the past week to the horror amusement park in our city It s the one thing I ve really been looking forward too My neighbour wanted to know if one of u could look after their kid on the night and after they ve taken her trick or treating They asked my brother and he said I would do it He didn t tell me about it And I found out yesterday that he s agreed to something I didn t even know about I don t want to cancel on them because they ve got plan of their own but my brother won t take over for me because he want to watch horror movie What do you do in this situation \n",
      "--------------------\n",
      "Does anyone else hate the chase This post is intended for men So I rather just say hi and start dating already I don t want to chase harder than I should for it I feel like if I have to chase for a relationship then what s the point of one Thoughts \n",
      "--------------------\n",
      "Am i a incel Hey M virgin here Pretty much i never really cared about woman I just keep doing thing i like during my free time video game if i enjoy that it cant be a waste of time If i feel any urge i just masturbate Also in my country located in Europe pretty much nobody asks if we re virgin or not so nobody know I m in university where there is woman per man so i dont have any contact with them After i finish uni and start working i wanna play more cool and expensive video game eat great food buy a battle station and so on And if my look matter anything i m pretty average in face and height Am i a incel \n",
      "--------------------\n",
      "People keep thinking that I m M gay I m not Over the past year I ve had multiple people tell me that they thought that I wa gay I don t think I come across a gay I typically wear nicer clothing leather boot button up shirt because I find it comfortable Most of my friend that I hang out with are woman with boyfriend my friend know I m straight and introduce me to girl all the time their boyfriend think I m gay bi though A few week ago I went to a bar alone which I like doing a lot and two older like s s woman started buying me drink and being flirty I wa being flirty back they started questioning me if I wa gay because I wasn t grabbing them I don t really care if I come across a gay I know I m not but is there something about my description that scream gay about me I m thinking maybe it s because I act pretty aloof with woman instead of pursuing them strongly \n",
      "--------------------\n",
      "Met a cute guy through Tinder He smoke Lol it feel like people are gonna judge me but I am EXTREMELY turned off by smoking So yeah i don t know if I wanna date a guy that smoke Mom think im overreacting but the thought of kissing having sex with a causal smoker doesn t do it for me What do I do Is this a big enough reason for me to stop talking to him \n",
      "--------------------\n",
      "Is long distance ever worth it By long distance I mean a year at a time maybe more My situation is a little weird so I won t post it on here but just in general I wanted your opinion \n",
      "--------------------\n",
      "So i like this girl but she is really hard to get she is very open minded but she never had a relationship and she is not so open with boy So i y like this girl right y In the last week we started talking more and more and i see her a being not a closed a she is with other boy But i dont know what to do she is a very straight person like she will tell you are stupid if you are A solution would be inviting her out for a drink But a i see her she would immediately tell me no So what should i do P s we are in the same class so talking to her is not hard She is always saying that if she dy alone she doesnt care and thing like that Please help Thanks \n",
      "--------------------\n",
      "Please read M so i just met a girl day ago and took her number day later i texted her and we barely texted so after a while i told her Heyy umm you seem busy now we can talk later or whenever you feel free you can text me im always on she said Yesss alright And this wa the last text from her day ago So i waited day for her to text me back but she didn t and now im thinking that i need to text her So i need a very great and helpful advice about what should i do and what to text her Thank you P s this is my first time using reddit \n",
      "--------------------\n",
      "How do I learn to stick up for myself Not in my romantic relationship Im talking about in everyday life Sticking up for myself ha always been a problem However I m only and finally gaining the confidence to want to speak out I don t want to come off a bitchy But I do want to be firm It s something I m sure come with age but just wanted to know if you guy had any advise \n",
      "--------------------\n",
      "How do I make it easier on my friend now that a person super close to them and I can no longer be in the same room I m have had a friend group since early high school Recent event have caused me and a friend in this group to not be able to be around each other I made it clear to all my friend they should still see him and I won t hold it against them if they invite him and not me to thing but I want to know if there s anything else I can do to make them more comfortable with the situation Thanks \n",
      "--------------------\n",
      "Cheating How would you describe cheating Not physically or even entertaining other girl guy with message As in mentally Checking out others romanticizing fantasy \n",
      "--------------------\n",
      "FWB friend with benefit I ve m been single for month after a month long relationship Im in no place to get into anything serious I ve been on a few date here and there for fun I went on this date with this one guy m he seems pretty cool and an interesting person to talk to We hooked up and the sex wa great I m looking for a FWB I don t like sleeping with more than one person at a time How can I casually bring up the fact that I d like to have a FWB to him He also got out of a relationship month before we dated so I don t want to hurt him with the idea of something serious TL DR how do I tell someone I d like to have a FWB in a respectful way \n",
      "--------------------\n",
      "I m f about to go meet long distance friend f I met online a month ago is this crazy I wa in a toxic unofficial relationship for over a year that I officially cut all tie with around month ago Around the last few month when her and I were basically over I had tinder bumble but I never met anyone nor did anyone really interest me enough in conversation to continue anything One night about a month ago I downloaded a gay app that wa advertised to me I saw a girl that by no mean wa textbook hot but she wa different than I d normally go for I messaged her and after a few back and forth we started talking on Instagram At this point I d normally probably not put any effort to continue but there wa something about our conversation that just seemed so normal Well one thing I didn t realize is the app matched me with a girl from Texas I m all the way in Illinois Great I m now hooked on a girl that life hour from me I never went back on the app and her and I were talking every day from morning to night since the first day We eventually switched to texting we Snapchatted a well Two week ago we talked on the phone for the first time and after hour I knew she wa someone I wa started to get feeling for The next night we stayed up till the next morning talking for hour Talking to her ha become a part of my everyday and I genuinely am myself We ve both been able to help eachother in being able to talk about our previous relationship I ve had rebound before but she doesn t seem like that to me this time It s really hard to keep my attention but she ha It wa never my intention to get into long distance but her and I have made it clear were starting to get feeling for eachother So here I am I on a limb bought a plane ticket and hotel to go visit her in a week I feel like I m crazy for doing this but I feel like I would rather know now if it s just a friend connection or if it s more Has anyone gone through or had any experience like this I m a pretty spontaneous person so it s not out of the blue for me to do but I ve never done any kind of long distance before I also sometimes overthink the age gap for no reason and the fact that this wa so soon after a toxic relationship \n",
      "--------------------\n",
      "Person keep pointing at me So my friend who sits across from me keep pointing at me Sometimes she doe it without eye contact and sometimes she doe it in the middle of a conversation Sometimes her friend laugh while she s pointing at me I m so very confused \n",
      "--------------------\n",
      "Helping my gf w perfectionism I have an amazing relationship with a girl that I truly do love and I want to help her defeat her perfectionism It s too hard for her to do on her own and it s something she struggle with daily and it make me upset to see her so insecure because she s the most beautiful girl I ve ever met and I want to help her realize that Anyone with experience in helping someone gain confidence or someone with perfectionism themselves can you give me advice on helping her grow more confidence and just seeing herself for how she actually look Thank you \n",
      "--------------------\n",
      "I m M confused about the girl F i m seeing and her action Hello So i d just like to apologise to begin with i ve not dated properly in a few year now having been in a long term relationship I needed a bit of time to feel ready So please forgive my naivety and with that i ll begin So i ve known this girl s sister for many year and we d flirted a few time on Instagram and about week ago I asked her out The date went amazingly we both really hit it off we ended up back at mine and begun texting everyday since We ve been on about date now some planned some spur of the moment kind of thing the whole time we ve been texting everyday The last date I met her friend something she said she d never really done with a guy before we both affirmed that we liked each other and I spent the night at hers we ve both got article of clothing at each others house now a well and it seems like she ha been telling her friend about me However on Sunday she cancelled our plan because she wa feeling really stressed out about work the next day I understood and wa accommodating Her text after that became a bit more distant and slower The next day she had an incredibly stressful day at work by the sound of it and that s all we spoke about when she had time She did call me though to have a chat about our day briefly when I asked her if she wanted to hang this week though she said she wa quite busy but maybe her friend would cancel on Saturday The text after that seemed disinterested Today I left thing for a while a I didn t want to crowd her but when I did text and she asked me how my day wa she hasn t replied to my response that I wa having a bit of a shitty day It s been hour now and she s been online a few time so I can assume that she know I messaged Ultimately I just need some advice on whether this seems like she is losing interest now or is this something that happens occasionally Should I cool it off for a while and wait for her to message me I just want to know what my best play here is a I do like her and don t wanna mess this up TL DR Been on great date with a girl we both say we like each other I meet her friend etc suddenly the text become le engaging today I don t get a reply at all What s my play \n",
      "--------------------\n",
      "Break up M F can you get your girl back after lying about your age \n",
      "--------------------\n",
      "This isn t good and I want better for the both of u I m gunna just get this off my chest and say this I m wrong asf and I know it Me and my girl got into and it got physical I really wish it didn t and I wish I just walked away I want to make this better because we parted way and I want to be together because we have a son and I don t want my son to go thru what I went thru I want to know how to make this better How I can fix this and make her believe that this will never happen again \n",
      "--------------------\n",
      "Is it wrong if I [ F] want someone to manipulate me Hey guy Basically I ve come to the conclusion that I actively want someone to manipulate me I make myself vulnerable on purpose so that men will take advantage of me and want to make me into what they want of me Is it a kink If so where do I find such men \n",
      "--------------------\n",
      "My F crush M is a complete asshole Why am I still obsessed with him Now we re talking about a guy that s lookswise a out of Really sexy body smooth tall the cuttest sexiest face I ve seen in person like my dream guy To add to that all girl that have been with him say that he is amazing in bed we re still just so it s pretty rare for guy to be really good at stuff like that And now there is the other side of him He is a complete and utter asshole Period Like he s a jerk at school well known fact but when he came over to my place for a school project that s when I really saw what an arrogant dick he wa Ehm here s that story So I wa sitting on my bed plucking my violin cuz that s what I do when I m bored and wa both really excited and impatient about him coming over Nobody else wa home personally made sure of it so when he rang I quite literally ran to the door to open There were a few second of u looking at each other with me thinking of how hot he is and how amazing this is going to be And from then on thing only went downhill He walked in didn t take his shoe off although I distinctly told him how the floor have just been cleaned he wa wearing his trashy Jordans that were pretty filthy and continued to completely ignore me desperately trying to start a conversation When he came in my room he legit kicked my violin that wa on the floor got on my bed with his shoe on and started starring at his phone probably swiping instagram It took me half an hour to get him to actually work on the project with me and even then he wouldn t stop asking me cocky question like Did you ever blow a guy Do you get wet when you masturbate and such completely irrelevant question made only to annoy me We finished with me having done of the work and he left leaving me in a fucking mess of a room Shoe print over the bed thing randomly dropped from shelf snack that he asked me for all over the place You d think that I d never want to have anything to do with him again Well wrong I am still excited around him obsessed with getting a chance to speak him and still look at him a the ultimate prize even tho he s such a jerk Why I like think of myself a an intelligent individual Why would I still lose control around him if I have seen him treat me and my thing like shit Is something wrong with me Educate me please \n",
      "--------------------\n",
      "M being lead on F So just to preface this this is a girl I met online We live about mile apart But anyways I met this girl on this beta for a game And we got to talking I added her to my friend group because she seemed cool We started playing other game together and really enjoying each other company Around February we started to flirt back and forth This progressed into sexting and at the time that s all it wa It wa just messing around And then a few month into this we start talking more romantically instead of sexually We flirted and talked about being together but she said she wasn t ready Because she had gotten out of a yr relationship I understood and I wa there for her during her panic attack and down moment surrounding that and her family problem Anyways we start talking more and more romantically even to the point of her and I saying I love you and such thing I ask her out one day and she say it s not the time I said okay But over the next month after it devolved into basically she never loved me like that that she tried to love me like that but couldn t We stopped talking because I just wa so hurt probably more than I have ever been in my entire life She say she want to be single to pursue her life ambition of making her family proud of her And cut to today technically last night I see a post on her Facebook and Instagram of her and a guy The caption wa spent the weekend with a great man I messaged her saying that I ve had enough and I couldn t forgive her for all of this because she wanted me to forget that she hurt me and to try and be just friend not romantic side no sexual side nothing Just friend And I told her I m done and she say she s been done for a while I unfriended her on every platform I could But seeing her with that guy is burned into my mind and I m broken rn So my question is how do I move on How do I get the image of them out of my head \n",
      "--------------------\n",
      "Should I slide into the dm Hey guy so I ve been crushing on this guy on Instagram and I ended up following him and I sent him a dm later telling him I m sorry Cause he wa involved in a traumatizing incident but then that conversation wa pretty short and ended then I don t know him but he seems pretty nice Yesterday I liked like of his old pic cause I m too chicken to message him again Lol What do I do Plus i dont know if he is single or not cause he doesn t post personal stuff If I m to shoot my shot what should I say to avoid looking like a stalker creep \n",
      "--------------------\n",
      "Dealing with a hard time To start thing off I ve been with a girl for month now thing were going great but about a month ago I got hit with a huge wave of depression that s kind of ruined u we have the same conversation every day and it s always one word answer I just recently Today went to talk to a therapist about what I should do regarding said relationship but I m not sure what to really do Would I be an asshole for breaking it off and trying to focus on myself for a while \n",
      "--------------------\n",
      "I M have never kissed a girl or had a girlfriend Amy advice I am junior in college and have no game at all when it come to girl I have never kissed a girl and only have been on a date once I am an extreme introvert with horrible social skill I have trouble talking to girl and really people in general which make it very difficult I feel like I have no confidence because I am am short I feel like le of a person because of my size and can t shake that thinking I just started working out begining of college and am in great shape extremely lean six pack in all but still look skinny It also doesn t help that I can grow facial hair because of that baby face look to me Any advice for me on what to do I need help I want a girl friend but I feel like at this point I ve should of at least kissed a girl a this point It s embarrassing \n",
      "--------------------\n",
      "What doe it mean when someone tell you the care about you a a person I ve had deep feeling for this guy for a while now and he s aware of that which is fine and all but he doesn t feel the same way I do and surprisingly I m okay with it At least for now I am lol but anyway he told me that he care for me a a person I m just confused a to what exactly that mean It might be really stupid to ask for advice on this but I genuinely need it so any would be appreciated \n",
      "--------------------\n",
      "Shot My Shot and got a Bullseye but apparently there s also weird stuff goin on So I wasn t sure but thought that this girl I knew wa flirting with me for awhile So after a few week of testing the water I got her to confirm she like me and I told her I like her back HOWEVER she is currently in a relationship with another girl she s Bi but I chill with that but one that even before I told her I like her that she wanted to end cause she wa losing interest The whole interaction took place maybe an hour ago and she hasn t texted since so I dunno I m planning to wait it out for her to end it with that girl and then I go in but I m not sure with the decision Am I making the right call \n",
      "--------------------\n",
      "I [ M] think I am still in love with a girl [ F] I dated for month who moved back to Germany Need advice Apologies for the length of this post I just really need to get this off my chest Thanks in advance to anyone willing to hear me out I have always struggled with social anxiety and have never had a meaningful long term relationship in my life So earlier this year I did what most single guy who don t go out much do and made a Tinder account I met a girl on there and we really hit it off over text so we set up a date at a local bar She wa absolutely stunning Smart beautiful funny interesting and everything else you could ever dream for in a girl We talked and drank until midnight and we were too tired to continue We didn t wait long to see each other again and again we talked and drank all night We kissed and from that point she had stolen my heart I think it wa the first time I have ever truly been in love However there is a catch She is German She wa only here to complete an internship that wa necessary for her to apply to PhD program here in the States she already ha a master s degree at the age of That s how smart and amazing she is She left for Germany month later with the status of if she would ever come back to my area of the States up in the air We agreed to stay in touch but we didn t really address the status of our relationship we never really explicitly said that we were dating I think because we both knew it would have to end soon Messages got more and more far apart and now it s been month since we ve spoken I don t know about her but the reason I stopped messaging her regularly is for two reason I wanted to move on The distance just seems too far for u to work out Even if she return to the state to complete her PhD it s unlikely to be anywhere near me I don t know if I wa a special to her a she wa to me Frankly I highly doubt it While I have never been in a long term relationship she had been in one that lasted year Yes That s not a typo The guy had purposed to her and she rejected it because she felt she wa too young and had no idea where her life would take her which led to them breaking up A month fling with some American boy must be totally forgettable by her standard right Every date I ve been on since then just hasn t been the same Nobody is a smart a beautiful or a funny a her I can t get her out of my head It s like I am not even looking for another girl I m just looking for the next her However because I have never been in love before I am really concerned that I m just working myself up and making what we had out to be more than it wa since I have nothing to compare it to Maybe what we had wa mediocre at best but I just have nothing to compare it to I don t know what to do It s unlikely she feel the same way about me and even if she did we are practically on opposite side of the planet should I just forget about her We haven t spoken in month would it be too weird to suddenly tell her how I feel I didn t even do that properly while she wa here Any advice at all would be appreciated I just feel lost \n",
      "--------------------\n",
      "Would you say that ending a relationship the second time is easier So basically I f ended my relationship once and we m got back together I am just curious if it is easier to end it the second time I feel like in some way maybe it is because your partner went through it once and realizes it must just not be working and can come to term with it more I am aware this issue probably is situational but I personally think it can be easier just because the person ending it ha more confidence that it is over since they gave it another shot there is le guilt that you could be ending it for the wrong reason I also believe that it isn t just a bomb that is being dropped on you both and that it can be understood a bit more \n",
      "--------------------\n",
      "Is it honestly that bad to ask a crush that rejected you if they still wanna be friend Had a dude reject me and then come back a week later to ask me a bunch of question why I liked him when my feeling developed why I told him when I did Said he wa still surprised to find out I liked him a week later so I asked him if he wanted to stay friend because everything felt kinda awkward He blew up and called me toxic for cutting off people easily and said I made it sound like our friendship meant nothing to me I ve asked people this question in the past before and it never made someone so angry \n",
      "--------------------\n",
      "Is he cheating So long story summarized we started dating a little over a year and a half ago I wa pregnant with a baby that wasn t his but he accepted her a his I ended up moving in with him and his family for the time being after being with him for about month one day I had read message on his phone calling a girl babe and beautiful and can t wait to get a kiss and stuff Well we talked about it and he blocked her and everything well I just so thought thing were going fine flash forward to now I thought thing were going better but I m pregnant again with his kid there ha been many sketchy thing happening on and off Example one day a girl I thought wa my friend who had a boyfriend randomly texted him I m home I put a big stop to that and she blocked him on everything Another thing he randomly call me after he drop me off being with him all weekend and say a girl is probably about to text you and tell you I ve been cheating on you but he say he hasn t That s what got me why would a girl randomly text me this like what happened he never explained but deactivated instagram because of this and the girl never messaged me which I really wish she had Now he ha taken off the relationship status on his facebook profile and in really trying to figure everything out before I go crazy and leave \n",
      "--------------------\n",
      "I M[ ] need advice for a first date Backstory So full disclosure I ve never been in this position before and am really anxious and unsure about how to go about thing I m in my first year of college and from a small town in the midwestern US and never really had anybody actually click with me very well in a romantic sense and not for a lack of trying at least on my end Anyways a it so happened my first week at uni I wound up meeting this girl at a picnic thing for student directly admitted to their chosen college and right off the bat I wa kinda drawn to her As it turned out we were majoring in the same subject and have a class together so we wound up keeping in contact and became friend We have a lot in common and we also get along really well and seem to enjoy each other s company Recently I realized that I have feeling for her and for the first time in my life I m fairly confident that I m not going to be turned down if I ask her out which ha led me to here Request for advice So despite being confident in the answer I ll get I m still really unsure about when or really how to go about it I ve never been on a date before and I also struggle with confidence issue and anxiety so I m a far away from being a walking beacon of charisma a one can get I know all of this make me sound like an inexperienced idiot and my only response to that would be I wouldn t be asking this if I weren t so you got me Idk if I formatted this stuff properly or not so I m sorry if it s confusing but I m planning on asking her in a week or so and I m already nervous about it I m trying to relax and I think some advice on the basic do s and don t would help ease my mind a bit Thanks and sorry again for any formatting issue I m really casual user of the site and am also using mobile which doesn t help \n",
      "--------------------\n",
      "I don t know what to do or how to feel about relationship Okay brief history but I met this girl about week ago online and have been talking to her since then We met during our second week of talking and I felt like we clicked and enjoyed spending time together and began to meet every other weekend The third time we met I asked her in a subtle way if she had feeling for me like I did for her and she said yes and I asked if she wa okay with making it official to date call her my girlfriend Fast forward we began to be intimate with each other whenever she came over However over this past weekend when she came over I noticed that she acted le friendly and she would turn her phone on airplane mode and when I wa curious about it she said she told her friend that she wa with family and didn t want them to know where she wa but I just brushed it off I feel like she s trying to keep me a secret a she refers to me a a friend to her friend and feel like she doesn t really like me or want to be dating even though she show physical emotion when we are together I also found out that she still us tinder and this ha me worried that she is seeing other people because I do enjoy spending time with her but I don t want to feel like I m being used and kept like a secret and don t want to bring anything up a it could ruin everything and she s the first person that I ve dated \n",
      "--------------------\n",
      "Do you think this age gap is too big NOT DATING My friend and I and are in a band with a mutual friend he is He found u a bassist but the thing is we and are all super close in age a we were born in and and that is basically the same age group So he found u a drummer but the drummer age is Is that too big of an age gap I mean the drummer is good and none of u look older than him it is just the age compared to u is that too big \n",
      "--------------------\n",
      "I F don t know what to do about a crush It s a long story so just bare with me About a month ago I broke up with my boyfriend M of almost year It wa a dead relationship for a long time and looking back I should ve broken up after month a year I lost feeling quite quickly Regardless I started developing a crush on a guy M in my friend group probably around a year and a half ago It became much stronger recently and I told him on Thursday and he didn t give me an answer a to whether he liked me or not I told him I wasn t ready for a relationship because I d only recently broken up with my boyfriend I wa fine I wa coping then this weekend happened I should probably mention at this point that we re an online friend group We meet up with most of u there s in the group twice a year and then some of u meet up in smaller group too Anyway this weekend a few of u met up myself and my crush included Ever since he arrived until the moment he left my heart rate wa high something I ve never had with a person before It went down every so often but generally it wa high and I wa shaking so bad I m talking to some mutual friend about it all the next day and getting mixed message One think it s a rebound and I shouldn t do anything another think going on a date wouldn t hurt I m lost I then find out he only started liking me at the weekend and that he d never thought about me in that way before now He also respect me wanting to stay single for a while but again I feel like the weekend changed my perspective on it all Help I just I don t know what to do I really just don t want to get hurt or hurt him Tl dr I ve been single for a month like a guy he like me back I want to go on a date but not sure what to do \n",
      "--------------------\n",
      "My Bf just told me when we first met he thought I wa hot but wasn t sure I wa hot enough to date He then added that when we started hanging out more he noticed I wa actually really pretty and that I have only gotten prettier in the year we ve been together He apologized when I told him my feeling were hurt but I can t seem to get over this What s wrong with me I feel like I shouldn t care so much but I just feel gross I feel like it s related to my feeling of him until recently being unsure of our relationship and like I ve been an nd option In the first year he wa active on dating apps and regularly liked his ex hookup photo on social medium We ve been in couple therapy and it s really helping but this feel like a major set back for me I don t know how to feel or move on \n",
      "--------------------\n",
      "Getting back together with an ex So I just wanted to hear your advice about getting back together with an ex In my case we have been broken up for a couple of year and didn t see each other in that time the other day we hooked up at a party but we haven t spoken to each other since day If you ve been in a similar situation or any advice I d love to hear might help sort thing out \n",
      "--------------------\n"
     ]
    }
   ],
   "source": [
    "# Posts incorrectly predicted to be in relationship_advice\n",
    "for i in df_pred[(df_pred['y_test'] - df_pred['y_pred']) < 0]['X_test']:\n",
    "    print(i)\n",
    "    print('-'*20)"
   ]
  },
  {
   "cell_type": "markdown",
   "metadata": {},
   "source": [
    "# Conclusion and Recommendations"
   ]
  },
  {
   "cell_type": "markdown",
   "metadata": {},
   "source": [
    "- Our logistic regression did not perform too well with a test accuracy score of 78.78%. This is within expectations because the topics of our two chosen subreddits does not differ significantly.\n",
    "- Scope for future improvements:\n",
    "    - Optimize stop words and explore strategies for stemming\n",
    "    - Try ensemble models, such as random forest classifier\n",
    "    - Colleect more data that are posted accurately in their respective subreddits"
   ]
  },
  {
   "cell_type": "code",
   "execution_count": null,
   "metadata": {},
   "outputs": [],
   "source": []
  }
 ],
 "metadata": {
  "kernelspec": {
   "display_name": "Python 3",
   "language": "python",
   "name": "python3"
  },
  "language_info": {
   "codemirror_mode": {
    "name": "ipython",
    "version": 3
   },
   "file_extension": ".py",
   "mimetype": "text/x-python",
   "name": "python",
   "nbconvert_exporter": "python",
   "pygments_lexer": "ipython3",
   "version": "3.7.3"
  },
  "toc": {
   "base_numbering": 1,
   "nav_menu": {},
   "number_sections": true,
   "sideBar": true,
   "skip_h1_title": false,
   "title_cell": "Table of Contents",
   "title_sidebar": "Contents",
   "toc_cell": false,
   "toc_position": {},
   "toc_section_display": true,
   "toc_window_display": true
  }
 },
 "nbformat": 4,
 "nbformat_minor": 2
}
