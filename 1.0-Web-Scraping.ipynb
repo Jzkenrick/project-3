{
 "cells": [
  {
   "cell_type": "markdown",
   "metadata": {},
   "source": [
    "# Problem Statement\n",
    "---\n",
    "Reddit is a collection of online discussion boards known as \"subreddits\", which cover a variety of topics. In this project we will be looking into the subreddits, dating_advice and relationship_advice. The choice of these two subreddits is motivated by their text-heavy posts. We will be creating and comparing two models: a logistic regression and a multinomial naive Bayes classifier. Our results may be useful for any reddit user who is unsure which subreddit is the most appropriate to submit his new post, so that he can attract the most comments."
   ]
  },
  {
   "cell_type": "markdown",
   "metadata": {},
   "source": [
    "# Data Collection"
   ]
  },
  {
   "cell_type": "code",
   "execution_count": 1,
   "metadata": {
    "ExecuteTime": {
     "end_time": "2019-10-23T02:33:03.803043Z",
     "start_time": "2019-10-23T02:33:00.838548Z"
    }
   },
   "outputs": [],
   "source": [
    "import requests\n",
    "import pandas as pd\n",
    "import time\n",
    "import random"
   ]
  },
  {
   "cell_type": "code",
   "execution_count": 10,
   "metadata": {
    "ExecuteTime": {
     "end_time": "2019-10-23T02:50:55.310478Z",
     "start_time": "2019-10-23T02:50:55.262486Z"
    }
   },
   "outputs": [],
   "source": [
    "# Define function to scrape data\n",
    "def scraping(urls, num_req):\n",
    "    posts = []\n",
    "    for url in urls:\n",
    "        after = None\n",
    "        for i in range(num_req):\n",
    "            if after == None:\n",
    "                current_url = url\n",
    "            else:\n",
    "                current_url = url + '?after=' + after\n",
    "            res = requests.get(current_url, headers={'User-agent': 'Pony Inc 1.0'})\n",
    "        \n",
    "            if res.status_code == 200:\n",
    "                current_dict = res.json()\n",
    "                posts.extend(current_dict['data']['children'])\n",
    "                after = current_dict['data']['after']\n",
    "            else:\n",
    "                print('Status error', res.status_code)\n",
    "                break\n",
    "            sleep_duration = random.randint(2,6)\n",
    "            time.sleep(sleep_duration)\n",
    "    \n",
    "    # Extract name id, title, text and subreddit origin from data and return in a DataFrame\n",
    "    names, titles, texts, subreddits = [], [], [], []\n",
    "    for i in range(len(posts)):\n",
    "        names.append(posts[i]['data']['name'])\n",
    "        titles.append(posts[i]['data']['title'])\n",
    "        texts.append(posts[i]['data']['selftext'])\n",
    "        subreddits.append(posts[i]['data']['subreddit'])\n",
    "    return pd.DataFrame({'name': names, 'title': titles, 'text': texts, 'subreddit': subreddits})"
   ]
  },
  {
   "cell_type": "code",
   "execution_count": 11,
   "metadata": {
    "ExecuteTime": {
     "end_time": "2019-10-23T02:59:13.112923Z",
     "start_time": "2019-10-23T02:50:58.140981Z"
    }
   },
   "outputs": [],
   "source": [
    "# Scrape posts from subreddits\n",
    "df = scraping([\n",
    "    'https://www.reddit.com/r/dating_advice.json',\n",
    "    'https://www.reddit.com/r/relationship_advice.json'\n",
    "], num_req=50)"
   ]
  },
  {
   "cell_type": "code",
   "execution_count": 13,
   "metadata": {
    "ExecuteTime": {
     "end_time": "2019-10-23T03:00:19.543707Z",
     "start_time": "2019-10-23T03:00:19.502000Z"
    }
   },
   "outputs": [
    {
     "name": "stdout",
     "output_type": "stream",
     "text": [
      "(2502, 4)\n"
     ]
    },
    {
     "data": {
      "text/html": [
       "<div>\n",
       "<style scoped>\n",
       "    .dataframe tbody tr th:only-of-type {\n",
       "        vertical-align: middle;\n",
       "    }\n",
       "\n",
       "    .dataframe tbody tr th {\n",
       "        vertical-align: top;\n",
       "    }\n",
       "\n",
       "    .dataframe thead th {\n",
       "        text-align: right;\n",
       "    }\n",
       "</style>\n",
       "<table border=\"1\" class=\"dataframe\">\n",
       "  <thead>\n",
       "    <tr style=\"text-align: right;\">\n",
       "      <th></th>\n",
       "      <th>name</th>\n",
       "      <th>title</th>\n",
       "      <th>text</th>\n",
       "      <th>subreddit</th>\n",
       "    </tr>\n",
       "  </thead>\n",
       "  <tbody>\n",
       "    <tr>\n",
       "      <td>0</td>\n",
       "      <td>t3_co1xjb</td>\n",
       "      <td>FAQ: Where do you meet people?</td>\n",
       "      <td>Hi everyone. In an effort to put together a FA...</td>\n",
       "      <td>dating_advice</td>\n",
       "    </tr>\n",
       "    <tr>\n",
       "      <td>1</td>\n",
       "      <td>t3_dkzok7</td>\n",
       "      <td>Daily Free-for-all Discussion- October 21, 2019</td>\n",
       "      <td>Welcome to /r/dating_advice. Please use this d...</td>\n",
       "      <td>dating_advice</td>\n",
       "    </tr>\n",
       "    <tr>\n",
       "      <td>2</td>\n",
       "      <td>t3_dlf3t6</td>\n",
       "      <td>No girl ever seemed interested in me [19M]</td>\n",
       "      <td>Almost all my friends have/have had girlfriend...</td>\n",
       "      <td>dating_advice</td>\n",
       "    </tr>\n",
       "    <tr>\n",
       "      <td>3</td>\n",
       "      <td>t3_dlon52</td>\n",
       "      <td>It sucks being an introvert in an extrovert’s ...</td>\n",
       "      <td>I’ve had a lot of dates describe me as timid o...</td>\n",
       "      <td>dating_advice</td>\n",
       "    </tr>\n",
       "    <tr>\n",
       "      <td>4</td>\n",
       "      <td>t3_dlq2hv</td>\n",
       "      <td>Guys do you like it when a girl asks you out?</td>\n",
       "      <td>Im (f24) I’m thinking of asking out this boy(m...</td>\n",
       "      <td>dating_advice</td>\n",
       "    </tr>\n",
       "  </tbody>\n",
       "</table>\n",
       "</div>"
      ],
      "text/plain": [
       "        name                                              title  \\\n",
       "0  t3_co1xjb                     FAQ: Where do you meet people?   \n",
       "1  t3_dkzok7    Daily Free-for-all Discussion- October 21, 2019   \n",
       "2  t3_dlf3t6         No girl ever seemed interested in me [19M]   \n",
       "3  t3_dlon52  It sucks being an introvert in an extrovert’s ...   \n",
       "4  t3_dlq2hv      Guys do you like it when a girl asks you out?   \n",
       "\n",
       "                                                text      subreddit  \n",
       "0  Hi everyone. In an effort to put together a FA...  dating_advice  \n",
       "1  Welcome to /r/dating_advice. Please use this d...  dating_advice  \n",
       "2  Almost all my friends have/have had girlfriend...  dating_advice  \n",
       "3  I’ve had a lot of dates describe me as timid o...  dating_advice  \n",
       "4  Im (f24) I’m thinking of asking out this boy(m...  dating_advice  "
      ]
     },
     "execution_count": 13,
     "metadata": {},
     "output_type": "execute_result"
    }
   ],
   "source": [
    "print(df.shape)\n",
    "df.head()"
   ]
  },
  {
   "cell_type": "code",
   "execution_count": 44,
   "metadata": {
    "ExecuteTime": {
     "end_time": "2019-10-23T07:24:19.134941Z",
     "start_time": "2019-10-23T07:24:18.966847Z"
    }
   },
   "outputs": [
    {
     "name": "stdout",
     "output_type": "stream",
     "text": [
      "0.5003996802557954\n",
      "0.49960031974420466\n"
     ]
    }
   ],
   "source": [
    "print(1252/2502)\n",
    "print(1250/2502)"
   ]
  },
  {
   "cell_type": "code",
   "execution_count": 15,
   "metadata": {
    "ExecuteTime": {
     "end_time": "2019-10-23T03:18:30.118302Z",
     "start_time": "2019-10-23T03:18:29.529496Z"
    }
   },
   "outputs": [],
   "source": [
    "import matplotlib.pyplot as plt\n",
    "%matplotlib inline"
   ]
  },
  {
   "cell_type": "code",
   "execution_count": 46,
   "metadata": {
    "ExecuteTime": {
     "end_time": "2019-10-23T08:22:27.900929Z",
     "start_time": "2019-10-23T08:22:27.526025Z"
    }
   },
   "outputs": [
    {
     "name": "stdout",
     "output_type": "stream",
     "text": [
      "dating_advice          1252\n",
      "relationship_advice    1250\n",
      "Name: subreddit, dtype: int64\n"
     ]
    },
    {
     "data": {
      "image/png": "[encoded data removed]",
      "text/plain": [
       "<Figure size 432x288 with 1 Axes>"
      ]
     },
     "metadata": {
      "needs_background": "light"
     },
     "output_type": "display_data"
    }
   ],
   "source": [
    "print(df['subreddit'].value_counts())\n",
    "df['subreddit'].value_counts().plot(kind='bar');\n",
    "# plot\n",
    "plt.xticks(fontsize=12,rotation=0);\n",
    "plt.title('Distribution between subreddits',fontsize=15,pad=15,fontweight='bold');\n",
    "plt.figtext(0.27,0.5,1252,fontsize=15);\n",
    "plt.figtext(0.66,0.5,1250,fontsize=15);"
   ]
  },
  {
   "cell_type": "code",
   "execution_count": 35,
   "metadata": {
    "ExecuteTime": {
     "end_time": "2019-10-23T03:33:08.689835Z",
     "start_time": "2019-10-23T03:33:08.371004Z"
    }
   },
   "outputs": [],
   "source": [
    "# export data scraped to csv\n",
    "df.to_csv('data/reddit-posts.csv', index=False)"
   ]
  }
 ],
 "metadata": {
  "kernelspec": {
   "display_name": "Python 3",
   "language": "python",
   "name": "python3"
  },
  "language_info": {
   "codemirror_mode": {
    "name": "ipython",
    "version": 3
   },
   "file_extension": ".py",
   "mimetype": "text/x-python",
   "name": "python",
   "nbconvert_exporter": "python",
   "pygments_lexer": "ipython3",
   "version": "3.7.3"
  },
  "toc": {
   "base_numbering": 1,
   "nav_menu": {},
   "number_sections": true,
   "sideBar": true,
   "skip_h1_title": false,
   "title_cell": "Table of Contents",
   "title_sidebar": "Contents",
   "toc_cell": false,
   "toc_position": {},
   "toc_section_display": true,
   "toc_window_display": false
  }
 },
 "nbformat": 4,
 "nbformat_minor": 2
}
